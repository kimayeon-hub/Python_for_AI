{
 "cells": [
  {
   "cell_type": "markdown",
   "id": "e046daf9-76c2-41c6-b2b5-9c13bafc7c82",
   "metadata": {},
   "source": [
    "## < 실제 데이터로 pandas 라이브러리와 탐색적 분석 과정 익히기 >\n",
    "\n",
    "#### 코로나 바이러스 데이터와 함께 pandas 라이브러리 익히기\n",
    "- COVID-19-master 폴더 확인\n",
    "  - 데이터 다운로드: https://github.com/CSSEGISandData/COVID-19\n",
    "  - 데이터 압축 풀고 COVID-19-master 폴더를 통째로 pandas_eda 주피터 노트북이 있는 폴더 안에 하위폴더로 이동"
   ]
  },
  {
   "cell_type": "markdown",
   "id": "f5deff64-f06f-4965-b8d0-4b8fd7cfe6db",
   "metadata": {},
   "source": [
    "<div class=\"alert alert-block\" style=\"border: 1px solid #FFB300;background-color:#F9FBE7;\">\n",
    "<font size=\"3em\" style=\"font-weight:bold;color:#3f8dbf;\">탐색적 데이터 분석: 1. 데이터의 출처와 주제에 대해 이해</font><br>\n",
    "\n",
    "- 국가별 코로나 바이러스 daily 현황 자료\n",
    "- Johns Hopkins University Center for Systems Science and Engineering (JHU CSSE) 에서 작성\n",
    "- 데이터 소스는 https://github.com/CSSEGISandData/COVID-19/tree/master/who_covid_19_situation_reports 에 명시\n",
    "  - 실제 데이터 분석에서는 raw data를 어떻게 가져왔는지에 대해서도 세세히 알필요가 있을 때가 있음\n",
    "    - PDF로 만들어진 공식 문서에서 추출한 데이터와 공식 웹페이지를 크롤링해서 얻은 자료를 CSV 파일로 생성한 것으로 보임\n",
    "  - 위 데이터는 테스트용 데이터이므로 출처에 대해서는 이 정도만 파악하기로 함\n",
    "</div>"
   ]
  },
  {
   "cell_type": "markdown",
   "id": "feedca09-82a9-45a3-a884-005d881c07c8",
   "metadata": {},
   "source": [
    "### 1. pandas 라이브러리로 CSV 파일 읽기\n",
    "- `csv 파일`을 pandas `dataframe` 으로 읽기 위해 `read_csv()` 함수를 사용함\n",
    "- csv 구분자는 quotechar=구분자 옵션을 넣어서 구분자가 다른 경우도 읽기 가능\n",
    "\n",
    "> doc = pd.read_csv(\"파일명\", encoding='utf-8-sig', quotechar=',')\n",
    "\n",
    "- 에러 나는 데이터는 항상 있을 수 있음, 해당 데이터는 생략하는 것이 일반적임\n",
    "\n",
    "> doc = pd.read_csv(\"파일명\", encoding='utf-8-sig', error_bad_lines=False)"
   ]
  },
  {
   "cell_type": "code",
   "execution_count": 66,
   "id": "2bbe8961-329f-4957-816e-8f282dd1baa2",
   "metadata": {},
   "outputs": [],
   "source": [
    "import pandas as pd\n",
    "doc = pd.read_csv(\"00_Material(Uploaded)/COVID-19-master/csse_covid_19_data/csse_covid_19_daily_reports/04-01-2020.csv\", encoding='utf-8-sig')"
   ]
  },
  {
   "cell_type": "markdown",
   "id": "9a6b1a5e-6cf6-4bf6-a5f1-6dbb408cb46f",
   "metadata": {},
   "source": [
    "#### **참고**: pandas 라이브러리로 엑셀 파일 읽기\n",
    "\n",
    "- 엑셀 데이터 읽기 (맨 앞에 있는 쉬트의 데이터를 읽음)\n",
    "\n",
    "```\n",
    "pd.read_excel(\"파일명\")\n",
    "```\n",
    "\n",
    "- 특정 쉬트 데이터 읽기: sheet_name 옵션 사용해서, 엑셀 파일의 특정 쉬트를 명시적으로 지정 가능\n",
    "\n",
    "```\n",
    "pd.read_excel(파일명, sheet_name=쉬트명)\n",
    "```\n",
    "\n",
    "<br>"
   ]
  },
  {
   "cell_type": "markdown",
   "id": "267c0577-fc87-4dd7-a1ec-b923096555d2",
   "metadata": {},
   "source": [
    "<div class=\"alert alert-block\" style=\"border: 1px solid #FFB300;background-color:#F9FBE7;\">\n",
    "<font size=\"3em\" style=\"font-weight:bold;color:#3f8dbf;\">탐색적 데이터 분석: 2. 데이터의 크기 확인</font><br>\n",
    "- 보통 head(), shape, info()를 사용해 데이터의 크기를 확인함\n",
    "</div>"
   ]
  },
  {
   "cell_type": "markdown",
   "id": "9fe6255b-9a36-4214-9d54-9f3268ab7ba5",
   "metadata": {},
   "source": [
    "### 1. 데이터를 pandas로 읽은 후, 가장 먼저 하는 일\n",
    "\n",
    "- 데이터 일부 확인하기\n",
    "  - `head()`: 처음 5개(디폴트)의 데이터 확인하기\n",
    "    - head(n=10): 처음 10개(조정 가능)의 데이터 확인하기 \n",
    "  - `tail()`: 마지막 5개의 데이터 확인하기\n",
    "    - tail(n=10): 마지막 10개(조정 가능)의 데이터 확인하기 "
   ]
  },
  {
   "cell_type": "code",
   "execution_count": 71,
   "id": "2eb43b63-de72-44e6-bca4-d3183628e6e0",
   "metadata": {},
   "outputs": [
    {
     "data": {
      "text/html": [
       "<div>\n",
       "<style scoped>\n",
       "    .dataframe tbody tr th:only-of-type {\n",
       "        vertical-align: middle;\n",
       "    }\n",
       "\n",
       "    .dataframe tbody tr th {\n",
       "        vertical-align: top;\n",
       "    }\n",
       "\n",
       "    .dataframe thead th {\n",
       "        text-align: right;\n",
       "    }\n",
       "</style>\n",
       "<table border=\"1\" class=\"dataframe\">\n",
       "  <thead>\n",
       "    <tr style=\"text-align: right;\">\n",
       "      <th></th>\n",
       "      <th>FIPS</th>\n",
       "      <th>Admin2</th>\n",
       "      <th>Province_State</th>\n",
       "      <th>Country_Region</th>\n",
       "      <th>Last_Update</th>\n",
       "      <th>Lat</th>\n",
       "      <th>Long_</th>\n",
       "      <th>Confirmed</th>\n",
       "      <th>Deaths</th>\n",
       "      <th>Recovered</th>\n",
       "      <th>Active</th>\n",
       "      <th>Combined_Key</th>\n",
       "    </tr>\n",
       "  </thead>\n",
       "  <tbody>\n",
       "    <tr>\n",
       "      <th>0</th>\n",
       "      <td>45001.0</td>\n",
       "      <td>Abbeville</td>\n",
       "      <td>South Carolina</td>\n",
       "      <td>US</td>\n",
       "      <td>2020-04-01 21:58:49</td>\n",
       "      <td>34.223334</td>\n",
       "      <td>-82.461707</td>\n",
       "      <td>4</td>\n",
       "      <td>0</td>\n",
       "      <td>0</td>\n",
       "      <td>4</td>\n",
       "      <td>Abbeville, South Carolina, US</td>\n",
       "    </tr>\n",
       "    <tr>\n",
       "      <th>1</th>\n",
       "      <td>22001.0</td>\n",
       "      <td>Acadia</td>\n",
       "      <td>Louisiana</td>\n",
       "      <td>US</td>\n",
       "      <td>2020-04-01 21:58:49</td>\n",
       "      <td>30.295065</td>\n",
       "      <td>-92.414197</td>\n",
       "      <td>47</td>\n",
       "      <td>1</td>\n",
       "      <td>0</td>\n",
       "      <td>46</td>\n",
       "      <td>Acadia, Louisiana, US</td>\n",
       "    </tr>\n",
       "    <tr>\n",
       "      <th>2</th>\n",
       "      <td>51001.0</td>\n",
       "      <td>Accomack</td>\n",
       "      <td>Virginia</td>\n",
       "      <td>US</td>\n",
       "      <td>2020-04-01 21:58:49</td>\n",
       "      <td>37.767072</td>\n",
       "      <td>-75.632346</td>\n",
       "      <td>7</td>\n",
       "      <td>0</td>\n",
       "      <td>0</td>\n",
       "      <td>7</td>\n",
       "      <td>Accomack, Virginia, US</td>\n",
       "    </tr>\n",
       "    <tr>\n",
       "      <th>3</th>\n",
       "      <td>16001.0</td>\n",
       "      <td>Ada</td>\n",
       "      <td>Idaho</td>\n",
       "      <td>US</td>\n",
       "      <td>2020-04-01 21:58:49</td>\n",
       "      <td>43.452658</td>\n",
       "      <td>-116.241552</td>\n",
       "      <td>195</td>\n",
       "      <td>3</td>\n",
       "      <td>0</td>\n",
       "      <td>192</td>\n",
       "      <td>Ada, Idaho, US</td>\n",
       "    </tr>\n",
       "    <tr>\n",
       "      <th>4</th>\n",
       "      <td>19001.0</td>\n",
       "      <td>Adair</td>\n",
       "      <td>Iowa</td>\n",
       "      <td>US</td>\n",
       "      <td>2020-04-01 21:58:49</td>\n",
       "      <td>41.330756</td>\n",
       "      <td>-94.471059</td>\n",
       "      <td>1</td>\n",
       "      <td>0</td>\n",
       "      <td>0</td>\n",
       "      <td>1</td>\n",
       "      <td>Adair, Iowa, US</td>\n",
       "    </tr>\n",
       "  </tbody>\n",
       "</table>\n",
       "</div>"
      ],
      "text/plain": [
       "      FIPS     Admin2  Province_State Country_Region          Last_Update  \\\n",
       "0  45001.0  Abbeville  South Carolina             US  2020-04-01 21:58:49   \n",
       "1  22001.0     Acadia       Louisiana             US  2020-04-01 21:58:49   \n",
       "2  51001.0   Accomack        Virginia             US  2020-04-01 21:58:49   \n",
       "3  16001.0        Ada           Idaho             US  2020-04-01 21:58:49   \n",
       "4  19001.0      Adair            Iowa             US  2020-04-01 21:58:49   \n",
       "\n",
       "         Lat       Long_  Confirmed  Deaths  Recovered  Active  \\\n",
       "0  34.223334  -82.461707          4       0          0       4   \n",
       "1  30.295065  -92.414197         47       1          0      46   \n",
       "2  37.767072  -75.632346          7       0          0       7   \n",
       "3  43.452658 -116.241552        195       3          0     192   \n",
       "4  41.330756  -94.471059          1       0          0       1   \n",
       "\n",
       "                    Combined_Key  \n",
       "0  Abbeville, South Carolina, US  \n",
       "1          Acadia, Louisiana, US  \n",
       "2         Accomack, Virginia, US  \n",
       "3                 Ada, Idaho, US  \n",
       "4                Adair, Iowa, US  "
      ]
     },
     "execution_count": 71,
     "metadata": {},
     "output_type": "execute_result"
    }
   ],
   "source": [
    "doc.head()"
   ]
  },
  {
   "cell_type": "code",
   "execution_count": 73,
   "id": "2ef83518-7345-4a53-950e-4cb9a02db08e",
   "metadata": {},
   "outputs": [
    {
     "data": {
      "text/html": [
       "<div>\n",
       "<style scoped>\n",
       "    .dataframe tbody tr th:only-of-type {\n",
       "        vertical-align: middle;\n",
       "    }\n",
       "\n",
       "    .dataframe tbody tr th {\n",
       "        vertical-align: top;\n",
       "    }\n",
       "\n",
       "    .dataframe thead th {\n",
       "        text-align: right;\n",
       "    }\n",
       "</style>\n",
       "<table border=\"1\" class=\"dataframe\">\n",
       "  <thead>\n",
       "    <tr style=\"text-align: right;\">\n",
       "      <th></th>\n",
       "      <th>FIPS</th>\n",
       "      <th>Admin2</th>\n",
       "      <th>Province_State</th>\n",
       "      <th>Country_Region</th>\n",
       "      <th>Last_Update</th>\n",
       "      <th>Lat</th>\n",
       "      <th>Long_</th>\n",
       "      <th>Confirmed</th>\n",
       "      <th>Deaths</th>\n",
       "      <th>Recovered</th>\n",
       "      <th>Active</th>\n",
       "      <th>Combined_Key</th>\n",
       "    </tr>\n",
       "  </thead>\n",
       "  <tbody>\n",
       "    <tr>\n",
       "      <th>2517</th>\n",
       "      <td>82604.0</td>\n",
       "      <td>NaN</td>\n",
       "      <td>Wales</td>\n",
       "      <td>United Kingdom</td>\n",
       "      <td>2020-04-01 21:58:49</td>\n",
       "      <td>52.1307</td>\n",
       "      <td>-3.7837</td>\n",
       "      <td>0</td>\n",
       "      <td>198</td>\n",
       "      <td>0</td>\n",
       "      <td>0</td>\n",
       "      <td>Wales, United Kingdom</td>\n",
       "    </tr>\n",
       "    <tr>\n",
       "      <th>2518</th>\n",
       "      <td>NaN</td>\n",
       "      <td>NaN</td>\n",
       "      <td>NaN</td>\n",
       "      <td>Nauru</td>\n",
       "      <td>2020-04-01 21:58:49</td>\n",
       "      <td>-0.5228</td>\n",
       "      <td>166.9315</td>\n",
       "      <td>0</td>\n",
       "      <td>0</td>\n",
       "      <td>0</td>\n",
       "      <td>0</td>\n",
       "      <td>Nauru</td>\n",
       "    </tr>\n",
       "    <tr>\n",
       "      <th>2519</th>\n",
       "      <td>NaN</td>\n",
       "      <td>NaN</td>\n",
       "      <td>Niue</td>\n",
       "      <td>New Zealand</td>\n",
       "      <td>2020-04-01 21:58:49</td>\n",
       "      <td>-19.0544</td>\n",
       "      <td>-169.8672</td>\n",
       "      <td>0</td>\n",
       "      <td>0</td>\n",
       "      <td>0</td>\n",
       "      <td>0</td>\n",
       "      <td>Niue, New Zealand</td>\n",
       "    </tr>\n",
       "    <tr>\n",
       "      <th>2520</th>\n",
       "      <td>NaN</td>\n",
       "      <td>NaN</td>\n",
       "      <td>NaN</td>\n",
       "      <td>Tuvalu</td>\n",
       "      <td>2020-04-01 21:58:49</td>\n",
       "      <td>-7.1095</td>\n",
       "      <td>177.6493</td>\n",
       "      <td>0</td>\n",
       "      <td>0</td>\n",
       "      <td>0</td>\n",
       "      <td>0</td>\n",
       "      <td>Tuvalu</td>\n",
       "    </tr>\n",
       "    <tr>\n",
       "      <th>2521</th>\n",
       "      <td>NaN</td>\n",
       "      <td>NaN</td>\n",
       "      <td>Pitcairn Islands</td>\n",
       "      <td>United Kingdom</td>\n",
       "      <td>2020-04-01 21:58:49</td>\n",
       "      <td>-24.3768</td>\n",
       "      <td>-128.3242</td>\n",
       "      <td>0</td>\n",
       "      <td>0</td>\n",
       "      <td>0</td>\n",
       "      <td>0</td>\n",
       "      <td>Pitcairn Islands, United Kingdom</td>\n",
       "    </tr>\n",
       "  </tbody>\n",
       "</table>\n",
       "</div>"
      ],
      "text/plain": [
       "         FIPS Admin2    Province_State  Country_Region          Last_Update  \\\n",
       "2517  82604.0    NaN             Wales  United Kingdom  2020-04-01 21:58:49   \n",
       "2518      NaN    NaN               NaN           Nauru  2020-04-01 21:58:49   \n",
       "2519      NaN    NaN              Niue     New Zealand  2020-04-01 21:58:49   \n",
       "2520      NaN    NaN               NaN          Tuvalu  2020-04-01 21:58:49   \n",
       "2521      NaN    NaN  Pitcairn Islands  United Kingdom  2020-04-01 21:58:49   \n",
       "\n",
       "          Lat     Long_  Confirmed  Deaths  Recovered  Active  \\\n",
       "2517  52.1307   -3.7837          0     198          0       0   \n",
       "2518  -0.5228  166.9315          0       0          0       0   \n",
       "2519 -19.0544 -169.8672          0       0          0       0   \n",
       "2520  -7.1095  177.6493          0       0          0       0   \n",
       "2521 -24.3768 -128.3242          0       0          0       0   \n",
       "\n",
       "                          Combined_Key  \n",
       "2517             Wales, United Kingdom  \n",
       "2518                             Nauru  \n",
       "2519                 Niue, New Zealand  \n",
       "2520                            Tuvalu  \n",
       "2521  Pitcairn Islands, United Kingdom  "
      ]
     },
     "execution_count": 73,
     "metadata": {},
     "output_type": "execute_result"
    }
   ],
   "source": [
    "doc.tail() # tail은 잘 쓰지 않음"
   ]
  },
  {
   "cell_type": "markdown",
   "id": "af9e9248-11ac-43a6-a5d4-b68d70735aef",
   "metadata": {},
   "source": [
    "### 2. 보다 다양한 데이터 정보 확인하기\n",
    "- `shape`: 데이터의 row, column 사이즈 확인\n",
    "- `info()`: column별 데이터 타입과 실제 데이터가 있는 사이즈 확인\n",
    "  - raw data는 일부 데이터가 없는 경우가 많기 때문에, 실제 데이터의 사이즈 확인이 필요함"
   ]
  },
  {
   "cell_type": "code",
   "execution_count": 76,
   "id": "98ff2719-57c4-4ed6-819d-640951b60546",
   "metadata": {},
   "outputs": [
    {
     "data": {
      "text/plain": [
       "(2522, 12)"
      ]
     },
     "execution_count": 76,
     "metadata": {},
     "output_type": "execute_result"
    }
   ],
   "source": [
    "doc.shape"
   ]
  },
  {
   "cell_type": "code",
   "execution_count": 78,
   "id": "d888eaa3-d9d3-4033-852a-cb70694bf5be",
   "metadata": {},
   "outputs": [
    {
     "name": "stdout",
     "output_type": "stream",
     "text": [
      "<class 'pandas.core.frame.DataFrame'>\n",
      "RangeIndex: 2522 entries, 0 to 2521\n",
      "Data columns (total 12 columns):\n",
      " #   Column          Non-Null Count  Dtype  \n",
      "---  ------          --------------  -----  \n",
      " 0   FIPS            2175 non-null   float64\n",
      " 1   Admin2          2221 non-null   object \n",
      " 2   Province_State  2338 non-null   object \n",
      " 3   Country_Region  2522 non-null   object \n",
      " 4   Last_Update     2522 non-null   object \n",
      " 5   Lat             2518 non-null   float64\n",
      " 6   Long_           2518 non-null   float64\n",
      " 7   Confirmed       2522 non-null   int64  \n",
      " 8   Deaths          2522 non-null   int64  \n",
      " 9   Recovered       2522 non-null   int64  \n",
      " 10  Active          2522 non-null   int64  \n",
      " 11  Combined_Key    2522 non-null   object \n",
      "dtypes: float64(3), int64(4), object(5)\n",
      "memory usage: 236.6+ KB\n"
     ]
    }
   ],
   "source": [
    "doc.info()"
   ]
  },
  {
   "cell_type": "markdown",
   "id": "8a395488-f5fa-4025-ae59-729407a0e0eb",
   "metadata": {},
   "source": [
    "<div class=\"alert alert-block\" style=\"border: 1px solid #FFB300;background-color:#F9FBE7;\">\n",
    "<font size=\"3em\" style=\"font-weight:bold;color:#3f8dbf;\">탐색적 데이터 분석: 3. 데이터 구성 요소(feature)의 속성(특징) 확인</font><br>\n",
    "</div>"
   ]
  },
  {
   "cell_type": "markdown",
   "id": "cbdbd18a-bd50-449c-9e2a-1e17e49be477",
   "metadata": {},
   "source": [
    "### 1. 각 column 이해하기\n",
    "- raw data에는 다양한 column 이 있는 경우가 많고, 이 중에서 내가 사용할 column 에 대해서는 확실히 이해하고 있어야 함\n",
    "    - `columns`로 컬럼 이름만 가져올 수 있음\n",
    "- Country_Region: 국가, Lat/Long: 경도, Confirmed: 확진, Deaths: 사망, Recovered: 회복, Active: 확진 중인 사람(사망자/회복자 제외)"
   ]
  },
  {
   "cell_type": "code",
   "execution_count": 82,
   "id": "30e747d9-4a52-4e67-b89d-62aabe0a8097",
   "metadata": {},
   "outputs": [
    {
     "data": {
      "text/plain": [
       "Index(['FIPS', 'Admin2', 'Province_State', 'Country_Region', 'Last_Update',\n",
       "       'Lat', 'Long_', 'Confirmed', 'Deaths', 'Recovered', 'Active',\n",
       "       'Combined_Key'],\n",
       "      dtype='object')"
      ]
     },
     "execution_count": 82,
     "metadata": {},
     "output_type": "execute_result"
    }
   ],
   "source": [
    "doc.columns"
   ]
  },
  {
   "cell_type": "markdown",
   "id": "b86c1f63-afb3-4619-8001-9e55d85d0a9e",
   "metadata": {},
   "source": [
    "### 2. 속성이 숫자라면, 평균, 표준편차, 4분위 수, 최소/최대갑 확인하기\n",
    "- `describe()`: 숫자 데이터의 기본 통계치를 한번에 확인할 수 있음"
   ]
  },
  {
   "cell_type": "code",
   "execution_count": 85,
   "id": "df7ce29c-05ca-44d0-9f40-edb8aa63523c",
   "metadata": {},
   "outputs": [
    {
     "data": {
      "text/html": [
       "<div>\n",
       "<style scoped>\n",
       "    .dataframe tbody tr th:only-of-type {\n",
       "        vertical-align: middle;\n",
       "    }\n",
       "\n",
       "    .dataframe tbody tr th {\n",
       "        vertical-align: top;\n",
       "    }\n",
       "\n",
       "    .dataframe thead th {\n",
       "        text-align: right;\n",
       "    }\n",
       "</style>\n",
       "<table border=\"1\" class=\"dataframe\">\n",
       "  <thead>\n",
       "    <tr style=\"text-align: right;\">\n",
       "      <th></th>\n",
       "      <th>FIPS</th>\n",
       "      <th>Lat</th>\n",
       "      <th>Long_</th>\n",
       "      <th>Confirmed</th>\n",
       "      <th>Deaths</th>\n",
       "      <th>Recovered</th>\n",
       "      <th>Active</th>\n",
       "    </tr>\n",
       "  </thead>\n",
       "  <tbody>\n",
       "    <tr>\n",
       "      <th>count</th>\n",
       "      <td>2175.000000</td>\n",
       "      <td>2518.000000</td>\n",
       "      <td>2518.000000</td>\n",
       "      <td>2522.000000</td>\n",
       "      <td>2522.000000</td>\n",
       "      <td>2522.000000</td>\n",
       "      <td>2522.000000</td>\n",
       "    </tr>\n",
       "    <tr>\n",
       "      <th>mean</th>\n",
       "      <td>30114.640920</td>\n",
       "      <td>35.289228</td>\n",
       "      <td>-75.615792</td>\n",
       "      <td>372.307296</td>\n",
       "      <td>20.477002</td>\n",
       "      <td>76.656622</td>\n",
       "      <td>278.524187</td>\n",
       "    </tr>\n",
       "    <tr>\n",
       "      <th>std</th>\n",
       "      <td>15643.080021</td>\n",
       "      <td>12.149460</td>\n",
       "      <td>47.809329</td>\n",
       "      <td>4174.952692</td>\n",
       "      <td>363.948042</td>\n",
       "      <td>1494.960160</td>\n",
       "      <td>2945.050096</td>\n",
       "    </tr>\n",
       "    <tr>\n",
       "      <th>min</th>\n",
       "      <td>1001.000000</td>\n",
       "      <td>-71.949900</td>\n",
       "      <td>-175.198200</td>\n",
       "      <td>0.000000</td>\n",
       "      <td>0.000000</td>\n",
       "      <td>0.000000</td>\n",
       "      <td>0.000000</td>\n",
       "    </tr>\n",
       "    <tr>\n",
       "      <th>25%</th>\n",
       "      <td>18052.000000</td>\n",
       "      <td>33.086811</td>\n",
       "      <td>-94.749118</td>\n",
       "      <td>2.000000</td>\n",
       "      <td>0.000000</td>\n",
       "      <td>0.000000</td>\n",
       "      <td>2.000000</td>\n",
       "    </tr>\n",
       "    <tr>\n",
       "      <th>50%</th>\n",
       "      <td>29031.000000</td>\n",
       "      <td>37.526763</td>\n",
       "      <td>-86.065254</td>\n",
       "      <td>7.000000</td>\n",
       "      <td>0.000000</td>\n",
       "      <td>0.000000</td>\n",
       "      <td>6.000000</td>\n",
       "    </tr>\n",
       "    <tr>\n",
       "      <th>75%</th>\n",
       "      <td>45024.000000</td>\n",
       "      <td>41.406878</td>\n",
       "      <td>-79.042655</td>\n",
       "      <td>34.000000</td>\n",
       "      <td>1.000000</td>\n",
       "      <td>0.000000</td>\n",
       "      <td>31.000000</td>\n",
       "    </tr>\n",
       "    <tr>\n",
       "      <th>max</th>\n",
       "      <td>99999.000000</td>\n",
       "      <td>71.706900</td>\n",
       "      <td>178.065000</td>\n",
       "      <td>110574.000000</td>\n",
       "      <td>13155.000000</td>\n",
       "      <td>63326.000000</td>\n",
       "      <td>80572.000000</td>\n",
       "    </tr>\n",
       "  </tbody>\n",
       "</table>\n",
       "</div>"
      ],
      "text/plain": [
       "               FIPS          Lat        Long_      Confirmed        Deaths  \\\n",
       "count   2175.000000  2518.000000  2518.000000    2522.000000   2522.000000   \n",
       "mean   30114.640920    35.289228   -75.615792     372.307296     20.477002   \n",
       "std    15643.080021    12.149460    47.809329    4174.952692    363.948042   \n",
       "min     1001.000000   -71.949900  -175.198200       0.000000      0.000000   \n",
       "25%    18052.000000    33.086811   -94.749118       2.000000      0.000000   \n",
       "50%    29031.000000    37.526763   -86.065254       7.000000      0.000000   \n",
       "75%    45024.000000    41.406878   -79.042655      34.000000      1.000000   \n",
       "max    99999.000000    71.706900   178.065000  110574.000000  13155.000000   \n",
       "\n",
       "          Recovered        Active  \n",
       "count   2522.000000   2522.000000  \n",
       "mean      76.656622    278.524187  \n",
       "std     1494.960160   2945.050096  \n",
       "min        0.000000      0.000000  \n",
       "25%        0.000000      2.000000  \n",
       "50%        0.000000      6.000000  \n",
       "75%        0.000000     31.000000  \n",
       "max    63326.000000  80572.000000  "
      ]
     },
     "execution_count": 85,
     "metadata": {},
     "output_type": "execute_result"
    }
   ],
   "source": [
    "doc.describe()\n",
    "# count: 갯수, mean: 평균, std: 표준편차, min: 최소값, max: 최대값\n",
    "# 25%/50%/75%: 4분위수로 전체 데이터 중, 25%/50%/75% 각각에 해당하는 수치가 몇 인지를 알려줌"
   ]
  },
  {
   "cell_type": "markdown",
   "id": "adfcba16-c542-488c-a26f-bb357933bbc2",
   "metadata": {},
   "source": [
    "### 3. 속성간 상관관계 이해하기\n",
    "- `corr(method=상관계수)`: 각 속성간 상관 관계 확인하기 (`피어슨 상관계수가 디폴트`임)\n",
    "- `피어슨 상관계수`는 선형 상관 관계를 조사하며, 일반적으로\n",
    "  - +1에 가까우면, 양의 선형 상관 관계 (1에 가까울 수록 선에 가까운 데이터가 많고, 한 변수값이 증가하면, 다른 변수값도 증가)\n",
    "  - 0에 가까우면 상관관계가 없고\n",
    "  - -1에 가까우면 음의 선형 상관 관계를 가진다 (-1에 가까울 수록 선에 가까운 데이터가 많고, 한 변수값이 증가하면, 다른 변수값은 감소) 라고\n",
    "  해석됨\n",
    "  \n",
    "  \n",
    "> 참고: 피어슨 상관계수 관계   <img src=\"https://upload.wikimedia.org/wikipedia/commons/thumb/3/34/Correlation_coefficient.png/600px-Correlation_coefficient.png\">\n",
    "> 출처: [위키피디아]( https://ko.wikipedia.org/wiki/%ED%94%BC%EC%96%B4%EC%8A%A8_%EC%83%81%EA%B4%80_%EA%B3%84%EC%88%98)"
   ]
  },
  {
   "cell_type": "code",
   "execution_count": 88,
   "id": "639638e0-696b-41fa-b79d-cc366ed05aee",
   "metadata": {},
   "outputs": [
    {
     "data": {
      "text/html": [
       "<div>\n",
       "<style scoped>\n",
       "    .dataframe tbody tr th:only-of-type {\n",
       "        vertical-align: middle;\n",
       "    }\n",
       "\n",
       "    .dataframe tbody tr th {\n",
       "        vertical-align: top;\n",
       "    }\n",
       "\n",
       "    .dataframe thead th {\n",
       "        text-align: right;\n",
       "    }\n",
       "</style>\n",
       "<table border=\"1\" class=\"dataframe\">\n",
       "  <thead>\n",
       "    <tr style=\"text-align: right;\">\n",
       "      <th></th>\n",
       "      <th>FIPS</th>\n",
       "      <th>Lat</th>\n",
       "      <th>Long_</th>\n",
       "      <th>Confirmed</th>\n",
       "      <th>Deaths</th>\n",
       "      <th>Recovered</th>\n",
       "      <th>Active</th>\n",
       "    </tr>\n",
       "  </thead>\n",
       "  <tbody>\n",
       "    <tr>\n",
       "      <th>FIPS</th>\n",
       "      <td>1.000000</td>\n",
       "      <td>0.160717</td>\n",
       "      <td>0.171490</td>\n",
       "      <td>-0.000504</td>\n",
       "      <td>0.076467</td>\n",
       "      <td>NaN</td>\n",
       "      <td>0.002718</td>\n",
       "    </tr>\n",
       "    <tr>\n",
       "      <th>Lat</th>\n",
       "      <td>0.160717</td>\n",
       "      <td>1.000000</td>\n",
       "      <td>-0.476426</td>\n",
       "      <td>0.029389</td>\n",
       "      <td>0.026309</td>\n",
       "      <td>-0.002781</td>\n",
       "      <td>0.035631</td>\n",
       "    </tr>\n",
       "    <tr>\n",
       "      <th>Long_</th>\n",
       "      <td>0.171490</td>\n",
       "      <td>-0.476426</td>\n",
       "      <td>1.000000</td>\n",
       "      <td>0.141126</td>\n",
       "      <td>0.096924</td>\n",
       "      <td>0.141932</td>\n",
       "      <td>0.119737</td>\n",
       "    </tr>\n",
       "    <tr>\n",
       "      <th>Confirmed</th>\n",
       "      <td>-0.000504</td>\n",
       "      <td>0.029389</td>\n",
       "      <td>0.141126</td>\n",
       "      <td>1.000000</td>\n",
       "      <td>0.837153</td>\n",
       "      <td>0.727305</td>\n",
       "      <td>0.942484</td>\n",
       "    </tr>\n",
       "    <tr>\n",
       "      <th>Deaths</th>\n",
       "      <td>0.076467</td>\n",
       "      <td>0.026309</td>\n",
       "      <td>0.096924</td>\n",
       "      <td>0.837153</td>\n",
       "      <td>1.000000</td>\n",
       "      <td>0.546858</td>\n",
       "      <td>0.796549</td>\n",
       "    </tr>\n",
       "    <tr>\n",
       "      <th>Recovered</th>\n",
       "      <td>NaN</td>\n",
       "      <td>-0.002781</td>\n",
       "      <td>0.141932</td>\n",
       "      <td>0.727305</td>\n",
       "      <td>0.546858</td>\n",
       "      <td>1.000000</td>\n",
       "      <td>0.462484</td>\n",
       "    </tr>\n",
       "    <tr>\n",
       "      <th>Active</th>\n",
       "      <td>0.002718</td>\n",
       "      <td>0.035631</td>\n",
       "      <td>0.119737</td>\n",
       "      <td>0.942484</td>\n",
       "      <td>0.796549</td>\n",
       "      <td>0.462484</td>\n",
       "      <td>1.000000</td>\n",
       "    </tr>\n",
       "  </tbody>\n",
       "</table>\n",
       "</div>"
      ],
      "text/plain": [
       "               FIPS       Lat     Long_  Confirmed    Deaths  Recovered  \\\n",
       "FIPS       1.000000  0.160717  0.171490  -0.000504  0.076467        NaN   \n",
       "Lat        0.160717  1.000000 -0.476426   0.029389  0.026309  -0.002781   \n",
       "Long_      0.171490 -0.476426  1.000000   0.141126  0.096924   0.141932   \n",
       "Confirmed -0.000504  0.029389  0.141126   1.000000  0.837153   0.727305   \n",
       "Deaths     0.076467  0.026309  0.096924   0.837153  1.000000   0.546858   \n",
       "Recovered       NaN -0.002781  0.141932   0.727305  0.546858   1.000000   \n",
       "Active     0.002718  0.035631  0.119737   0.942484  0.796549   0.462484   \n",
       "\n",
       "             Active  \n",
       "FIPS       0.002718  \n",
       "Lat        0.035631  \n",
       "Long_      0.119737  \n",
       "Confirmed  0.942484  \n",
       "Deaths     0.796549  \n",
       "Recovered  0.462484  \n",
       "Active     1.000000  "
      ]
     },
     "execution_count": 88,
     "metadata": {},
     "output_type": "execute_result"
    }
   ],
   "source": [
    "# 2023.05.16: 최신 pandas 버전에서는 doc.corr() 이 자동으로 문자컬럼을 제외하고, 계산해주지 않고, 에러를 냄\n",
    "# 2023.05.16: 다음과 같이 numeric_only=True 옵션을 기재해줘야 함\n",
    "# doc.corr()\n",
    "doc.corr(numeric_only=True)"
   ]
  },
  {
   "cell_type": "markdown",
   "id": "701f7f8c-ddf0-4798-8078-c5d76305544e",
   "metadata": {},
   "source": [
    "#### **참고**: 피어슨 상관계수\n",
    "- 두 변수 X 와 Y 간의 선형 상관 관계를 계량화한 수치로, 수치 자체를 이해하기 위해서는 공분산등 고등수학 범위를 넘어서므로, 다음과 같이 간략한 식을 참고로만 이해하기로 함\n",
    "- X와 Y가 각각 n 개의 샘플을 가지고 있을 때,\n",
    "\n",
    "$$\n",
    "\\text{r}_{XY} = \\frac{\n",
    "\\sum_{i}^{n} (X_{i} -  \\bar{X}) \\cdot (Y_{i} -  \\bar{Y})}\n",
    "{\\sqrt{\\sum_{i}^{n} (X_{i} -  \\bar{X})^2} \\cdot\n",
    "\\sqrt{\\sum_{i}^{n} (Y_{i} -  \\bar{Y})^2}\n",
    "}\n",
    "$$\n",
    "\n",
    "$$ \\bar{X}: X 샘플의 평균, \\bar{Y}: Y 샘플의 평균 $$"
   ]
  },
  {
   "cell_type": "markdown",
   "id": "9cfe24f9-8bb0-4155-8022-a2a3aaabb0d2",
   "metadata": {},
   "source": [
    "#### **참고**: 데이터 시각화를 통한 데이터 이해\n",
    "- 데이터를 보다 깊게 이해하기 위해, 데이터를 시각화할 수 있음\n",
    "- 방대한 데이터를 숫자로 보는 것보다, 눈으로 보면 보다 명확히 이해할 수 있음\n",
    "- 다양한 데이터 시각화 라이브러리가 존재하므로, 이 중에서 데이터 탐색의 상관관계 분석을 위해, 바로 사용할 수 있는 라이브러리를 이해하기로 함"
   ]
  },
  {
   "cell_type": "markdown",
   "id": "5b6042c0-6c9e-4b16-afc2-eb76a44b8b4a",
   "metadata": {},
   "source": [
    "#### **이전 데이터 시각화 라이브러리** (참고로만 이해)\n",
    "- `matplotlib`: 파이썬에서 가장 기본적으로 사용하는 자료를 그래프로 보여주는 시각화 라이브러리\n",
    "  - 가장 좋기 때문에, 많이 사용된 것이 아니라, 이전부터 사용해왔기 때문에 사용된다고 하는 편이 맞음\n",
    "- `seaborn`: matplotlib을 기반으로 다양한 통계 차트 및 색상 테마를 추가한 라이브러리\n",
    "  - matplotlib 라이브러리로만은 이쁘지 않았고, 다양한 차트에 대한 요구가 많아서 개발된 라이브러리"
   ]
  },
  {
   "cell_type": "markdown",
   "id": "3d00fb40-d324-4899-ad4e-8e063f6c6937",
   "metadata": {},
   "source": [
    "#### **최신 시각화 라이브러리**: `plotly`\n",
    "  - pandas 기능과 plotly 를 조합해서 최신/가장 빠르게 시각화 가능\n",
    "  - pandas 데이터프레임.iplot() 같은 형태로 데이터프레임을 바로 그래프로 그릴 수 있음\n",
    "  - https://plotly.com/python/\n",
    "  \n",
    "  \n",
    "> 본 전처리에서는 이전 데이터 시각화 라이브러리를 간략히 시각화가 분석에 유용하다는 점을 알려주는 용도로 사용함 <br>\n",
    "> 이전 시각화 라이브러리에 대해 가볍게만 이해할 수 있도록 꾸몄습니다. <br>\n",
    "> 데이터 분석에서 시각화를 본격적으로 이해할 시에는 최신 시각화 라이브러리를 사용합니다."
   ]
  },
  {
   "cell_type": "markdown",
   "id": "0528004b-a195-4ecc-82b5-36bbb3751ace",
   "metadata": {},
   "source": [
    "**보통 다음과 같이 임포트하고 as로 변경된 이름을 사용함**"
   ]
  },
  {
   "cell_type": "code",
   "execution_count": 95,
   "id": "bd498601-0165-4ff0-8ded-0604c94d0966",
   "metadata": {},
   "outputs": [],
   "source": [
    "import matplotlib.pyplot as plt\n",
    "import seaborn as sns"
   ]
  },
  {
   "cell_type": "markdown",
   "id": "25e2cf8f-f7fd-48b0-bac9-deee9ff07337",
   "metadata": {},
   "source": [
    "**주피터 노트북 상에서 그래프를 표현하기 위해 특별한 명령을 해주어야 함**"
   ]
  },
  {
   "cell_type": "code",
   "execution_count": 98,
   "id": "c1d51030-adee-4a06-b094-4d51875863ad",
   "metadata": {},
   "outputs": [],
   "source": [
    "%matplotlib inline "
   ]
  },
  {
   "cell_type": "markdown",
   "id": "6e34316a-70ca-421e-9dce-7ec0ca0d4697",
   "metadata": {},
   "source": [
    "**화면에 표시될 그래프 사이즈 조정**\n",
    "\n",
    "\n",
    "```\n",
    "sns.heatmap(data = doc.corr(), annot=True, fmt = '.2f', linewidths=0.5, cmap='Blues')\n",
    "```\n",
    "\n",
    "- data=테이블형: 데이터셋(데이터프레임)\n",
    "- annot=True: 박스 안에 값 표시\n",
    "- fmt='0.2f': 박스 안에 표시될 값의 표시 형식 설정 (0.2f 는 소숫점 두자릿수를 의미함)\n",
    "- linewidths=0.5: 박스와 박스 사이의 간격 설정\n",
    "- cmap='Blues': 색상 선택 (https://matplotlib.org/3.1.0/tutorials/colors/colormaps.html)"
   ]
  },
  {
   "cell_type": "code",
   "execution_count": 101,
   "id": "bf70dcc3-45b5-4ba0-a2a7-120846febe24",
   "metadata": {},
   "outputs": [
    {
     "data": {
      "text/plain": [
       "<Figure size 500x500 with 0 Axes>"
      ]
     },
     "execution_count": 101,
     "metadata": {},
     "output_type": "execute_result"
    }
   ],
   "source": [
    "plt.figure(figsize=(5,5))"
   ]
  },
  {
   "cell_type": "code",
   "execution_count": 115,
   "id": "0a5bc898-c514-46f4-8363-6fef0eb56823",
   "metadata": {
    "scrolled": true
   },
   "outputs": [
    {
     "data": {
      "image/png": "[encoded data removed]",
      "text/plain": [
       "<Figure size 500x500 with 2 Axes>"
      ]
     },
     "metadata": {},
     "output_type": "display_data"
    }
   ],
   "source": [
    "%matplotlib inline\n",
    "import matplotlib.pyplot as plt \n",
    "import seaborn as sns\n",
    "import pandas as pd\n",
    "\n",
    "doc = pd.read_csv(\"00_Material(Uploaded)/COVID-19-master/csse_covid_19_data/csse_covid_19_daily_reports/04-01-2020.csv\", encoding='utf-8-sig')\n",
    "\n",
    "plt.figure(figsize=(5,5))\n",
    "\n",
    "# doc.corr() 메서드는 숫자 컬럼에 대해서만 계산 가능합니다.\n",
    "# 기존에는 doc.corr() 호출시, 숫자 컬럼 외에는 자동 제외를 하였으나, 최근 버전에서는 자동 제외되지 않으므로,\n",
    "# 다음과 같이 숫자 컬럼만을 강제로 선택한 후, doc.corr() 을 호출하면 좋을 것 같습니다.\n",
    "selected_columns = ['Lat', 'Long_', 'Confirmed', 'Deaths', 'Recovered', 'Active']\n",
    "doc = doc[selected_columns]\n",
    "doc\n",
    "\n",
    "sns.heatmap(data = doc.corr(), annot=True, fmt = '.2f', linewidths=0.5, cmap='Blues')\n",
    "\n",
    "plt.show()"
   ]
  },
  {
   "cell_type": "code",
   "execution_count": null,
   "id": "7ddab464-c9f8-404f-b60d-c3cd8437ce13",
   "metadata": {},
   "outputs": [],
   "source": []
  }
 ],
 "metadata": {
  "kernelspec": {
   "display_name": "Python [conda env:base] *",
   "language": "python",
   "name": "conda-base-py"
  },
  "language_info": {
   "codemirror_mode": {
    "name": "ipython",
    "version": 3
   },
   "file_extension": ".py",
   "mimetype": "text/x-python",
   "name": "python",
   "nbconvert_exporter": "python",
   "pygments_lexer": "ipython3",
   "version": "3.12.7"
  }
 },
 "nbformat": 4,
 "nbformat_minor": 5
}
