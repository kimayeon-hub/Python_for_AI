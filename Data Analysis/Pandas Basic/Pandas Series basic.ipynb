{
 "cells": [
  {
   "cell_type": "markdown",
   "id": "fc0898f0-e5ea-4d94-9259-5ca65d4fe586",
   "metadata": {},
   "source": [
    "## 1. pandas 라이브러리 임포트\n",
    "- 보통 pd로 많이 사용함"
   ]
  },
  {
   "cell_type": "code",
   "execution_count": 5,
   "id": "730430e0-7d2b-4121-9d27-feb49e511948",
   "metadata": {},
   "outputs": [],
   "source": [
    "import pandas as pd"
   ]
  },
  {
   "cell_type": "markdown",
   "id": "f10afc24-0aa1-4d58-8168-7abab91c8d3b",
   "metadata": {},
   "source": [
    "## 2. 시리즈(Series) 이해하기\n",
    "- 데이터를 다루기 위해 데이터 프레임(Dataframe)과 시리즈(Series) 제공\n",
    "- 시리즈(Series)는 `1차원 데이터`이고, 데이터프레임(Dataframe)이 테이블형(2차원) 데이터임"
   ]
  },
  {
   "cell_type": "markdown",
   "id": "7c3b6c0c-fc04-4894-8d85-9a3989e99d5e",
   "metadata": {
    "jp-MarkdownHeadingCollapsed": true
   },
   "source": [
    "#### **2.1** Series 생성"
   ]
  },
  {
   "cell_type": "code",
   "execution_count": 9,
   "id": "72d760e2-2091-412d-83b1-62b1723ef19d",
   "metadata": {},
   "outputs": [
    {
     "data": {
      "text/plain": [
       "0    70\n",
       "1    60\n",
       "2    90\n",
       "dtype: int64"
      ]
     },
     "execution_count": 9,
     "metadata": {},
     "output_type": "execute_result"
    }
   ],
   "source": [
    "seriesdata = pd.Series([70, 60, 90])\n",
    "seriesdata"
   ]
  },
  {
   "cell_type": "markdown",
   "id": "7c37a001-abe2-4d59-aa75-a2173e1e7379",
   "metadata": {},
   "source": [
    "- index는 행의 레이블을 의미함\n",
    "- index를 지정하지 않으면 0부터 시작하는 인덱스 자동 생성\n",
    "- `지정할 경우`에는 지정된 index로 사용"
   ]
  },
  {
   "cell_type": "code",
   "execution_count": 13,
   "id": "18d2c3db-d3f1-4298-9c6c-8133fb39d5f4",
   "metadata": {},
   "outputs": [
    {
     "data": {
      "text/plain": [
       "국어    70\n",
       "영어    60\n",
       "수학    90\n",
       "dtype: int64"
      ]
     },
     "execution_count": 13,
     "metadata": {},
     "output_type": "execute_result"
    }
   ],
   "source": [
    "seriesdata = pd.Series([70, 60, 90], index=['국어', '영어', '수학'])\n",
    "seriesdata"
   ]
  },
  {
   "cell_type": "markdown",
   "id": "bfdc949a-2f3e-455e-9efc-dbc90d609d0d",
   "metadata": {
    "jp-MarkdownHeadingCollapsed": true
   },
   "source": [
    "#### **2.2** Series 데이터 읽고 수정하기"
   ]
  },
  {
   "cell_type": "markdown",
   "id": "bddcebda-e8fe-46dc-b258-b55042e2e848",
   "metadata": {},
   "source": [
    "**2.2.1** Series 인덱스 수정\n",
    "- 수정하고 싶은 인덱스만 수정하고 전체 인덱스를 다시 할당하면 됨"
   ]
  },
  {
   "cell_type": "code",
   "execution_count": 16,
   "id": "87bae79b-4cca-4a8a-b71f-339c84d2fdab",
   "metadata": {},
   "outputs": [
    {
     "data": {
      "text/plain": [
       "Index(['국어', '영어', '수학'], dtype='object')"
      ]
     },
     "execution_count": 16,
     "metadata": {},
     "output_type": "execute_result"
    }
   ],
   "source": [
    "seriesdata.index"
   ]
  },
  {
   "cell_type": "code",
   "execution_count": 20,
   "id": "4a03603e-db62-4f74-9d88-f33fed9ffb1a",
   "metadata": {},
   "outputs": [
    {
     "data": {
      "text/plain": [
       "미술    70\n",
       "음악    60\n",
       "체육    90\n",
       "dtype: int64"
      ]
     },
     "execution_count": 20,
     "metadata": {},
     "output_type": "execute_result"
    }
   ],
   "source": [
    "seriesdata.index = ['미술', '음악', '체육']\n",
    "seriesdata"
   ]
  },
  {
   "cell_type": "markdown",
   "id": "462104a8-3042-45d6-9d47-ece3be4bdde1",
   "metadata": {},
   "source": [
    "**2.2.2** Series value 수정\n",
    "- seriesdata.values = [] 형태로 직접 수정 불가"
   ]
  },
  {
   "cell_type": "code",
   "execution_count": 23,
   "id": "85f9ed11-46a6-4cbf-b9c9-fd3ad3e46020",
   "metadata": {},
   "outputs": [
    {
     "data": {
      "text/plain": [
       "array([70, 60, 90], dtype=int64)"
      ]
     },
     "execution_count": 23,
     "metadata": {},
     "output_type": "execute_result"
    }
   ],
   "source": [
    "seriesdata.values"
   ]
  },
  {
   "cell_type": "markdown",
   "id": "b38db584-26f0-48e1-b55f-51d5b69d00ec",
   "metadata": {},
   "source": [
    "- 특정 데이터 지정해서 출력, 수정 등 데이터 처리 가능"
   ]
  },
  {
   "cell_type": "code",
   "execution_count": 29,
   "id": "dc63335a-fb57-4249-a96e-610c05fcdd32",
   "metadata": {},
   "outputs": [
    {
     "name": "stdout",
     "output_type": "stream",
     "text": [
      "70 70\n"
     ]
    }
   ],
   "source": [
    "# 최근 pandas 에서는 위 코드와 같이 seriesdata[0] 으로 데이터 접근을 비추천하기 시작해서, 경고를 표시합니다. (동작은 됩니다)\n",
    "# 대신에 다음과 같이 데이터프레임.iloc[위치번호] 로 접근하는 것을 추천합니다.\n",
    "print (seriesdata['미술'], seriesdata.iloc[0])"
   ]
  },
  {
   "cell_type": "markdown",
   "id": "f29a0e14-5c56-4dd7-b196-26011f3b061d",
   "metadata": {},
   "source": [
    "- `.iloc[index]`로 접근할 수 있음 "
   ]
  },
  {
   "cell_type": "code",
   "execution_count": 32,
   "id": "9a22752a-470a-47e4-9dbf-84b4b91ce01b",
   "metadata": {},
   "outputs": [
    {
     "data": {
      "text/plain": [
       "미술    70\n",
       "음악    80\n",
       "체육    90\n",
       "dtype: int64"
      ]
     },
     "execution_count": 32,
     "metadata": {},
     "output_type": "execute_result"
    }
   ],
   "source": [
    "seriesdata.iloc[1] = 80\n",
    "seriesdata"
   ]
  },
  {
   "cell_type": "markdown",
   "id": "77aea9d4-0b74-4420-8c12-0801aa58f9db",
   "metadata": {},
   "source": [
    "#### **2.3** Series 데이터 삭제하기\n",
    "- 데이터를 삭제하는 일은 거의 없음 (이런게 있다 알아만 두기)\n",
    "- `del`을 사용해서 삭제할 수 있음"
   ]
  },
  {
   "cell_type": "code",
   "execution_count": 36,
   "id": "90ece7b5-e1fe-4896-857b-44710be61b2d",
   "metadata": {},
   "outputs": [
    {
     "data": {
      "text/plain": [
       "음악    80\n",
       "체육    90\n",
       "dtype: int64"
      ]
     },
     "execution_count": 36,
     "metadata": {},
     "output_type": "execute_result"
    }
   ],
   "source": [
    "del seriesdata['미술']\n",
    "seriesdata"
   ]
  },
  {
   "cell_type": "markdown",
   "id": "32064b8e-8c75-4cfa-b467-65bc1e84eaa4",
   "metadata": {},
   "source": [
    "## 3. pandas 데이터 타입\n",
    "- pandas 데이터 타입은 파이썬과 다름\n",
    "  - dtype 으로 불리우며, 주요 데이터 타입은 다음과 같음\n",
    "    - `object` 는 파이썬의 str 또는 혼용 데이터 타입 (문자열)\n",
    "    - `int64` 는 파이썬의 int (정수)\n",
    "    - `float64` 는 파이썬의 float (부동소숫점)\n",
    "    - `bool` 는 파이썬의 bool (True 또는 False 값을 가지는 boolean)\n",
    "    - 이외에 `datetime64` (날짜/시간), `timedelta[ns]` (두 datatime64 간의 차) 도 활용됨\n",
    "\n",
    "> 가끔 data type 때문에 에러가 나는 경우가 있으므로, 데이터 타입에 대한 이해 및 데이터 타입 변경 기능을 알아둬야 함"
   ]
  },
  {
   "cell_type": "code",
   "execution_count": 40,
   "id": "c3f74f59-34fe-4d79-b053-c8ed4f8ce697",
   "metadata": {},
   "outputs": [
    {
     "data": {
      "text/plain": [
       "0    dave\n",
       "1    alex\n",
       "2    amir\n",
       "dtype: object"
      ]
     },
     "execution_count": 40,
     "metadata": {},
     "output_type": "execute_result"
    }
   ],
   "source": [
    "seriesdata = pd.Series(['dave', 'alex', 'amir'])\n",
    "seriesdata"
   ]
  },
  {
   "cell_type": "code",
   "execution_count": 42,
   "id": "6208749a-4301-4908-900d-d3ee597af7e2",
   "metadata": {},
   "outputs": [
    {
     "data": {
      "text/plain": [
       "0    1\n",
       "1    1\n",
       "2    1\n",
       "dtype: int64"
      ]
     },
     "execution_count": 42,
     "metadata": {},
     "output_type": "execute_result"
    }
   ],
   "source": [
    "seriesdata = pd.Series([1, 1, 1])\n",
    "seriesdata"
   ]
  },
  {
   "cell_type": "markdown",
   "id": "e1f0aef9-27dd-4732-9912-4096aee3b78f",
   "metadata": {},
   "source": [
    "#### **3.1** 데이터 타입 변경\n",
    "- `Series.astype(변경할 타입)`"
   ]
  },
  {
   "cell_type": "code",
   "execution_count": 45,
   "id": "0841eda4-53ba-4ee9-a2ac-b25244f57ac8",
   "metadata": {},
   "outputs": [
    {
     "data": {
      "text/plain": [
       "0    1.0\n",
       "1    1.0\n",
       "2    1.0\n",
       "dtype: float64"
      ]
     },
     "execution_count": 45,
     "metadata": {},
     "output_type": "execute_result"
    }
   ],
   "source": [
    "seriesdata.astype('float')"
   ]
  },
  {
   "cell_type": "code",
   "execution_count": null,
   "id": "9d05de8b-8dab-47c1-849b-a6a6f712d8c7",
   "metadata": {},
   "outputs": [],
   "source": []
  }
 ],
 "metadata": {
  "kernelspec": {
   "display_name": "Python [conda env:base] *",
   "language": "python",
   "name": "conda-base-py"
  },
  "language_info": {
   "codemirror_mode": {
    "name": "ipython",
    "version": 3
   },
   "file_extension": ".py",
   "mimetype": "text/x-python",
   "name": "python",
   "nbconvert_exporter": "python",
   "pygments_lexer": "ipython3",
   "version": "3.12.7"
  }
 },
 "nbformat": 4,
 "nbformat_minor": 5
}
