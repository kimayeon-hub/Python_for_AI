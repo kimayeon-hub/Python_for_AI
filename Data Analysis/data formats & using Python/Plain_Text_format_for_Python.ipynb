{
 "cells": [
  {
   "cell_type": "markdown",
   "id": "2b8f7e49-9ac3-4a42-911e-d08494e574d3",
   "metadata": {},
   "source": [
    "### 프로그래밍에서 파일 처리 순서\n",
    "    1. 파일 열기\n",
    "    2. 파일 읽기/쓰기\n",
    "    3. 파일 닫기"
   ]
  },
  {
   "cell_type": "markdown",
   "id": "aa1f08db-656e-46d7-a786-102df22810d5",
   "metadata": {
    "jp-MarkdownHeadingCollapsed": true
   },
   "source": [
    "###  파일 오픈\n",
    "- 파일디스크립터 변수: *오픈한 파일 객체를 가리키고 있는 변수*\n",
    "    \n",
    "    `open(파일이름, 파일열기모드, encoding)`\n",
    "    \n",
    "    - 파일이름\n",
    "    > 파일의 **절대경로** 또는 **상대경로**로 명시\n",
    "    - 파일열기모드\n",
    "    |모드|설명|\n",
    "    |---|--------|\n",
    "    | r |읽기 모드 (파일을 읽을 때만 사용)|\n",
    "    | w |쓰기 모드 (파일에 쓰기 할 때 사용. **기존 내용은 삭제됨**)|\n",
    "    | a |추가 모드 (기존 파일 끝에 내용을 추가할 때 사용)|\n",
    "    - encoding\n",
    "    > default는 utf-8 \n",
    "\n",
    "        > 파일 데이터 오픈시, 인코딩에 문제가 있어 보이면 `encoding='utf-8-sig'`를 사용하면 됨"
   ]
  },
  {
   "cell_type": "code",
   "execution_count": 62,
   "id": "17911502-8f83-4a8f-91e8-9ae599960881",
   "metadata": {},
   "outputs": [],
   "source": [
    "data_file = open('00_Material(Uploaded)/00_data/text_data.txt', 'r', encoding='utf-8-sig')"
   ]
  },
  {
   "cell_type": "markdown",
   "id": "9ffeb4b3-52d7-4d8f-a6ce-5acc3575b951",
   "metadata": {
    "jp-MarkdownHeadingCollapsed": true
   },
   "source": [
    "### 파일 닫기\n",
    "- 항상 오픈한 파일은 닫아야 함 (파일을 오픈한 채로 놔두면, 컴퓨터에서 관련 자원을 계속 사용중인 상태가 될 수 있음)\n",
    "\n",
    "    `파일디스크립트변수.close()`"
   ]
  },
  {
   "cell_type": "code",
   "execution_count": 64,
   "id": "9f6f702f-a604-498e-aa94-3839be12b25b",
   "metadata": {},
   "outputs": [],
   "source": [
    "data_file.close()"
   ]
  },
  {
   "cell_type": "markdown",
   "id": "db80a356-9319-4bf1-8b54-f9459787c5ed",
   "metadata": {},
   "source": [
    "- 파일을 열고, **자동으로 파일 닫기**\n",
    "\n",
    "    `with open() as 파일디스크립터변수:`\n",
    "> with 구문 안에서 동작할 명령을 tap하고 입력해서 사용하면, 그 동작이 끝나고 자동으로 파일을 닫아줌"
   ]
  },
  {
   "cell_type": "code",
   "execution_count": 69,
   "id": "5b9ea118-2517-4ee7-a676-84445cff0ece",
   "metadata": {},
   "outputs": [
    {
     "name": "stdout",
     "output_type": "stream",
     "text": [
      "test\n"
     ]
    }
   ],
   "source": [
    "with open('00_Material(Uploaded)/00_data/text_data.txt', 'r', encoding='utf-8-sig') as data_file:\n",
    "    print('test')"
   ]
  },
  {
   "cell_type": "markdown",
   "id": "f014a433-8a92-4e45-b16c-035caac44da9",
   "metadata": {},
   "source": [
    "### 파일 읽기\n",
    "- `readlines()`\n",
    "> 전체 데이터를 한줄씩 리스트 타입으로 읽어옴"
   ]
  },
  {
   "cell_type": "code",
   "execution_count": 77,
   "id": "9a58c71a-779e-4d8c-ab94-9e17b6aed136",
   "metadata": {},
   "outputs": [
    {
     "data": {
      "text/plain": [
       "['안녕하세요. Dave Lee 입니다.\\n', '본 예제는 Plain Text 파일 예제입니다.\\n', '감사합니다.']"
      ]
     },
     "execution_count": 77,
     "metadata": {},
     "output_type": "execute_result"
    }
   ],
   "source": [
    "data_file = open('00_Material(Uploaded)/00_data/text_data.txt', 'r', encoding='utf-8-sig')\n",
    "data_lines = data_file.readlines()\n",
    "data_lines"
   ]
  },
  {
   "cell_type": "code",
   "execution_count": 79,
   "id": "49ac7a9e-04a8-4fda-8f30-9b65cffab894",
   "metadata": {},
   "outputs": [
    {
     "name": "stdout",
     "output_type": "stream",
     "text": [
      "안녕하세요. Dave Lee 입니다.\n",
      "\n",
      "본 예제는 Plain Text 파일 예제입니다.\n",
      "\n",
      "감사합니다.\n"
     ]
    }
   ],
   "source": [
    "for data_line in data_lines:\n",
    "    print(data_line)\n",
    "data_file.close()"
   ]
  },
  {
   "cell_type": "markdown",
   "id": "2a954193-f321-409b-9e88-62f5a45b0466",
   "metadata": {},
   "source": [
    "- `readline()`\n",
    "> 현재까지 읽은 파일 데이터의 다음 한 줄을 문자열 타입으로 읽어옴"
   ]
  },
  {
   "cell_type": "code",
   "execution_count": 87,
   "id": "977ffb39-1962-48fa-8ad2-6adfd5042e7c",
   "metadata": {},
   "outputs": [
    {
     "name": "stdout",
     "output_type": "stream",
     "text": [
      "안녕하세요. Dave Lee 입니다.\n",
      "\n"
     ]
    }
   ],
   "source": [
    "data_file = open('00_Material(Uploaded)/00_data/text_data.txt', 'r', encoding='utf-8-sig')\n",
    "data_line = data_file.readline()\n",
    "print(data_line)"
   ]
  },
  {
   "cell_type": "code",
   "execution_count": 91,
   "id": "370f9181-7db4-43c2-b517-6aca55296bcf",
   "metadata": {},
   "outputs": [
    {
     "name": "stdout",
     "output_type": "stream",
     "text": [
      "감사합니다.\n"
     ]
    }
   ],
   "source": [
    "data_line = data_file.readline()\n",
    "print(data_line)\n",
    "data_file.close()"
   ]
  },
  {
   "cell_type": "markdown",
   "id": "a5695360-fe1b-4623-8718-937d58212b36",
   "metadata": {},
   "source": [
    "- `read()`\n",
    "> 전체 파일 데이터를 문자열 타입으로 읽어옴"
   ]
  },
  {
   "cell_type": "code",
   "execution_count": 94,
   "id": "48a55b6c-4780-48fb-b883-c51618dcceb5",
   "metadata": {},
   "outputs": [
    {
     "data": {
      "text/plain": [
       "'안녕하세요. Dave Lee 입니다.\\n본 예제는 Plain Text 파일 예제입니다.\\n감사합니다.'"
      ]
     },
     "execution_count": 94,
     "metadata": {},
     "output_type": "execute_result"
    }
   ],
   "source": [
    "data_file = open('00_Material(Uploaded)/00_data/text_data.txt', 'r', encoding='utf-8-sig')\n",
    "data = data_file.read()\n",
    "data"
   ]
  },
  {
   "cell_type": "markdown",
   "id": "b83fc217-19a1-4ffc-871f-2be0a27f65b6",
   "metadata": {
    "jp-MarkdownHeadingCollapsed": true
   },
   "source": [
    "### 파일 쓰기\n",
    "\n",
    "> open() 함수에 파일열기모드를 'w'로 해서, 파일 쓰기\n",
    "\n",
    "- `write()`"
   ]
  },
  {
   "cell_type": "markdown",
   "id": "eca9711a-5b0f-47f2-a7fb-b34e7680fc96",
   "metadata": {},
   "source": [
    "파일에 쓰기"
   ]
  },
  {
   "cell_type": "code",
   "execution_count": 101,
   "id": "c4ceefd4-a763-42ae-8f79-274c6403954a",
   "metadata": {},
   "outputs": [],
   "source": [
    "data_file = open('00_Material(Uploaded)/00_data/text_data.txt', 'w', encoding='utf-8-sig')\n",
    "data_file.write('Hello.')\n",
    "data_file.write('I\\'m Dave Lee.')\n",
    "data_file.close()"
   ]
  },
  {
   "cell_type": "markdown",
   "id": "ba317956-bd3b-4fc9-bfb7-098f88a87afb",
   "metadata": {},
   "source": [
    "라인 바꾸기"
   ]
  },
  {
   "cell_type": "code",
   "execution_count": 108,
   "id": "7500ab7c-f41f-4f94-b2f3-b1ec3870d0b1",
   "metadata": {},
   "outputs": [],
   "source": [
    "data_file = open('00_Material(Uploaded)/00_data/text_data.txt', 'w', encoding='utf-8-sig')\n",
    "data_file.write('Hello.\\n')\n",
    "data_file.write('I\\'m Dave Lee.')\n",
    "data_file.close()"
   ]
  },
  {
   "cell_type": "markdown",
   "id": "bc8b3aa2-7c12-417c-84b7-5acceac959a0",
   "metadata": {},
   "source": [
    "### 파일에 데이터 추가하기\n",
    "> open() 함수에 파일열기모드를 'a'로 해서, 파일 쓰기"
   ]
  },
  {
   "cell_type": "code",
   "execution_count": 123,
   "id": "7d9d6a86-6d99-469f-89a1-7b9ba31c295c",
   "metadata": {},
   "outputs": [],
   "source": [
    "data_file = open('00_Material(Uploaded)/00_data/text_data.txt', 'a', encoding='utf-8-sig')\n",
    "data_file.write('This example is Plain Text example.')\n",
    "data_file.close()"
   ]
  },
  {
   "cell_type": "markdown",
   "id": "e0db9d80-2157-4c22-b816-4bb03d9b0aea",
   "metadata": {},
   "source": [
    "### 연습\n",
    "\n",
    "1. 00_data/text_data_practice.txt를 만들고, 다음 내용 쓰기 (각 데이터별 라인을 바꿔주도록 저장)\n",
    "\n",
    "   유치원A\n",
    "\n",
    "   초등학교B\n",
    "\n",
    "   중학교C\n",
    "\n",
    "   고등학교D"
   ]
  },
  {
   "cell_type": "code",
   "execution_count": 138,
   "id": "bae70a58-c1cf-4c59-a461-3affa7ecdad4",
   "metadata": {},
   "outputs": [],
   "source": [
    "data_file = open('00_Material(Uploaded)/00_data/text_data_practice.txt', 'w', encoding='utf-8-sig')\n",
    "data_file.write('유치원A\\n')\n",
    "data_file.write('초등학교B\\n')\n",
    "data_file.write('중학교C\\n')\n",
    "data_file.write('고등학교D\\n')\n",
    "data_file.close()"
   ]
  },
  {
   "cell_type": "markdown",
   "id": "f2de5c68-a2ed-4420-ab73-327ae2738653",
   "metadata": {},
   "source": [
    "2. 00_data/text_data_practice.txt 파일에 다음 내용 추가하기\n",
    "\n",
    "    대학교E"
   ]
  },
  {
   "cell_type": "code",
   "execution_count": 140,
   "id": "9b07eea5-02ff-4ecc-938e-264af7448749",
   "metadata": {},
   "outputs": [],
   "source": [
    "data_file = open('00_Material(Uploaded)/00_data/text_data_practice.txt', 'a', encoding='utf-8-sig')\n",
    "data_file.write('대학교E')\n",
    "data_file.close()"
   ]
  },
  {
   "cell_type": "markdown",
   "id": "8238d686-a0ce-4196-a038-68960878bcc9",
   "metadata": {},
   "source": [
    "3. 00_data/text_data_practice.txt 파일 읽고, 다음과 같이 출력되는지 확인하기\n",
    "\n",
    "   유치원A\n",
    "\n",
    "   초등학교B\n",
    "\n",
    "   중학교C\n",
    "\n",
    "   고등학교D\n",
    "\n",
    "   대학교E"
   ]
  },
  {
   "cell_type": "code",
   "execution_count": null,
   "id": "08c685ed-6f48-4d7f-80b0-ad5f8da4562c",
   "metadata": {},
   "outputs": [],
   "source": [
    "data_file = open('00_Material(Uploaded)/00_data/text_data_practice.txt', 'r', encoding='utf-8-sig')\n",
    "data_lines = data_file.readlines()\n",
    "for data_"
   ]
  }
 ],
 "metadata": {
  "kernelspec": {
   "display_name": "Python [conda env:base] *",
   "language": "python",
   "name": "conda-base-py"
  },
  "language_info": {
   "codemirror_mode": {
    "name": "ipython",
    "version": 3
   },
   "file_extension": ".py",
   "mimetype": "text/x-python",
   "name": "python",
   "nbconvert_exporter": "python",
   "pygments_lexer": "ipython3",
   "version": "3.12.7"
  }
 },
 "nbformat": 4,
 "nbformat_minor": 5
}
