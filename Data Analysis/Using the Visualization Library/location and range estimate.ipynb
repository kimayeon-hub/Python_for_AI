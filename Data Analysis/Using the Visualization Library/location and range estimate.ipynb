{
 "cells": [
  {
   "cell_type": "markdown",
   "id": "94eb5f18-a139-484a-88ba-11eacba4b219",
   "metadata": {},
   "source": [
    "## 1. 데이터 분석을 위한 `위치 추정`과 `범위 추정`\n",
    "- 탐색적 데이터 분석의 세 번째, feature 분석을 위한 기본 탐색\n",
    "  - **위치 추정**: 방대한 데이터의 대푯값을 구해서, 해당 feature의 일종의 요약 정보 도출\n",
    "    - 보통은 `평균`을 쓰면 되며(물론 평균이 가장 좋은 대푯값이 아닌 경우도 많음), 특정 튀는 수치가 있을 때만 조정해도 충분합니다!\n",
    "  - **변이 추정**: 방대한 데이터의 분포 (밀집해 있는지, 퍼져 있는지)를 알아내어, 역시 해당 feature의 일종의 요약 정보 도출\n",
    "    - 수학에서 익힌 `표준편차`, `분산`이 대표적인 분포 확인 값\n",
    "\n",
    "> 가볍게 꼭 들어봤어야 할 만한 사항들을 정리하기<br>\n",
    "> **복잡한 수치를 쓸 경우, 오히려 현업에서는 관련된 모든 사람들이 이해할 수 없게 되어, 커뮤니케이션에 문제가 됨** <br>\n",
    "> 분석된 데이터의 결과는 개발자/데이터과학자들끼리 커뮤니케이션하는 경우보다, 마케팅/영업등 타직군과 커뮤니케이션하는 경우가 더 많기 때문임"
   ]
  },
  {
   "cell_type": "markdown",
   "id": "93542eeb-3ee7-4648-a462-abd7364a1493",
   "metadata": {
    "jp-MarkdownHeadingCollapsed": true
   },
   "source": [
    "### **1.1** 위치 추정\n",
    "- feature를 대표할 수 있는 대푯값을 찾는 것"
   ]
  },
  {
   "cell_type": "markdown",
   "id": "d6ef5be9-507a-4905-956f-9df867c83b19",
   "metadata": {},
   "source": [
    "#### **평균 (mean)**\n",
    "- 모든 값을 갯수로 나눈 값\n",
    "\n",
    "#### **가중 평균 (weighted mean)**\n",
    "- 데이터값($x_i$) X 가중치($w_i$) 의 총 합을 다시 가중치($w_i$)의 총합으로 나눈 것\n",
    "- 예: 여러 기기로부터 가져온 데이터 중, 특정 기기는 신뢰도가 떨어질 경우, 해당 기기로부터 나온 데이터에는 가중치를 낮게 줌\n",
    "\n",
    "#### **중간값 (median) (가중 중간값도 가능)**\n",
    "- 데이터를 정렬한 후 중간에 위치한 값을 취함\n",
    "- 평균은 특잇값(outlier)에 큰 영향을 받으므로, 특잇값에 큰 영향을 받지 않도록 중간값을 활용할 수 있음\n",
    "\n",
    "#### **절사평균 (trimmed mean)**\n",
    "- 데이터를 정렬한 후, 양끝에서 일정 개수의 값들을 빼고, 남은 데이터를 기반으로 평균을 계산\n",
    "- 즉, 특잇값을 평균을 구할 때 제외하는 것임\n",
    "\n",
    "\n",
    "> `EDA` 에서는 `중간값`(또는 중앙값이라고도 불리움)을 평균보다 중요하게 사용 (중간값은 특잇값의 영향을 받지 않기 때문임)"
   ]
  },
  {
   "cell_type": "markdown",
   "id": "02830361-2399-485e-9fa0-c633f7234090",
   "metadata": {},
   "source": [
    "### **1.2** 변이 추정"
   ]
  },
  {
   "cell_type": "markdown",
   "id": "9758a614-146d-4d88-a0e3-f5d8f68c2163",
   "metadata": {},
   "source": [
    "#### **분산(variance)**\n",
    "- 평균과 각 데이터간의 차를 제곱한 값들의 합을 데이터 갯수로 나눈 값\n",
    "$$ \\begin{align}\n",
    "\\sigma^2 = \\dfrac{\\sum_{i = 1}^{N} (x_i - \\mu)^2}{N}\n",
    "\\end{align} $$\n",
    "\n",
    "- $ \\sigma^2 $ : 모분산 (깊게 들어가면 샘플분산은 n - 1 로 나누지만, 분산의 형태만 간략히 참고로 알아두기로 함)\n",
    "- $ \\mu $ : 평균\n",
    "- $ N $ : 데이터 갯수\n",
    "- $ x_i $ : i 번째 데이터\n",
    "\n",
    "#### **표준편차(standard deviation)**\n",
    "- 분산은 수치가 너무 커서, 분산의 제곱근 (루트를 씌운 값)\n",
    "- $ \\sigma $ : 모표준편차 (깊게 들어가면 샘플표준편차는 샘플분산이 n 이 아닌, n - 1 로 나눈 값이므로 이를 제곱근한 값)"
   ]
  },
  {
   "cell_type": "markdown",
   "id": "606a64d2-34d6-4dc6-8889-a1ac3961b405",
   "metadata": {},
   "source": [
    "### **1.3** 위치 추정, 범위 추정 값 구하는 방법\n",
    "- `describe()` 사용"
   ]
  },
  {
   "cell_type": "code",
   "execution_count": 16,
   "id": "e0a61f80-a619-495d-b41e-266a9832648d",
   "metadata": {},
   "outputs": [
    {
     "data": {
      "text/html": [
       "<div>\n",
       "<style scoped>\n",
       "    .dataframe tbody tr th:only-of-type {\n",
       "        vertical-align: middle;\n",
       "    }\n",
       "\n",
       "    .dataframe tbody tr th {\n",
       "        vertical-align: top;\n",
       "    }\n",
       "\n",
       "    .dataframe thead th {\n",
       "        text-align: right;\n",
       "    }\n",
       "</style>\n",
       "<table border=\"1\" class=\"dataframe\">\n",
       "  <thead>\n",
       "    <tr style=\"text-align: right;\">\n",
       "      <th></th>\n",
       "      <th>A</th>\n",
       "      <th>B</th>\n",
       "    </tr>\n",
       "  </thead>\n",
       "  <tbody>\n",
       "    <tr>\n",
       "      <th>0</th>\n",
       "      <td>1</td>\n",
       "      <td>1</td>\n",
       "    </tr>\n",
       "    <tr>\n",
       "      <th>1</th>\n",
       "      <td>2</td>\n",
       "      <td>2</td>\n",
       "    </tr>\n",
       "    <tr>\n",
       "      <th>2</th>\n",
       "      <td>3</td>\n",
       "      <td>3</td>\n",
       "    </tr>\n",
       "    <tr>\n",
       "      <th>3</th>\n",
       "      <td>4</td>\n",
       "      <td>4</td>\n",
       "    </tr>\n",
       "    <tr>\n",
       "      <th>4</th>\n",
       "      <td>5</td>\n",
       "      <td>5</td>\n",
       "    </tr>\n",
       "    <tr>\n",
       "      <th>5</th>\n",
       "      <td>6</td>\n",
       "      <td>100</td>\n",
       "    </tr>\n",
       "  </tbody>\n",
       "</table>\n",
       "</div>"
      ],
      "text/plain": [
       "   A    B\n",
       "0  1    1\n",
       "1  2    2\n",
       "2  3    3\n",
       "3  4    4\n",
       "4  5    5\n",
       "5  6  100"
      ]
     },
     "execution_count": 16,
     "metadata": {},
     "output_type": "execute_result"
    }
   ],
   "source": [
    "import pandas as pd\n",
    "\n",
    "df = pd.DataFrame({\n",
    "    'A': [1, 2, 3, 4, 5, 6],\n",
    "    'B': [1, 2, 3, 4, 5, 100]\n",
    "})\n",
    "df"
   ]
  },
  {
   "cell_type": "code",
   "execution_count": 18,
   "id": "ddb47738-0263-4321-b8ee-dc99e7f95e4d",
   "metadata": {},
   "outputs": [
    {
     "data": {
      "text/html": [
       "<div>\n",
       "<style scoped>\n",
       "    .dataframe tbody tr th:only-of-type {\n",
       "        vertical-align: middle;\n",
       "    }\n",
       "\n",
       "    .dataframe tbody tr th {\n",
       "        vertical-align: top;\n",
       "    }\n",
       "\n",
       "    .dataframe thead th {\n",
       "        text-align: right;\n",
       "    }\n",
       "</style>\n",
       "<table border=\"1\" class=\"dataframe\">\n",
       "  <thead>\n",
       "    <tr style=\"text-align: right;\">\n",
       "      <th></th>\n",
       "      <th>A</th>\n",
       "      <th>B</th>\n",
       "    </tr>\n",
       "  </thead>\n",
       "  <tbody>\n",
       "    <tr>\n",
       "      <th>count</th>\n",
       "      <td>6.000000</td>\n",
       "      <td>6.000000</td>\n",
       "    </tr>\n",
       "    <tr>\n",
       "      <th>mean</th>\n",
       "      <td>3.500000</td>\n",
       "      <td>19.166667</td>\n",
       "    </tr>\n",
       "    <tr>\n",
       "      <th>std</th>\n",
       "      <td>1.870829</td>\n",
       "      <td>39.625329</td>\n",
       "    </tr>\n",
       "    <tr>\n",
       "      <th>min</th>\n",
       "      <td>1.000000</td>\n",
       "      <td>1.000000</td>\n",
       "    </tr>\n",
       "    <tr>\n",
       "      <th>25%</th>\n",
       "      <td>2.250000</td>\n",
       "      <td>2.250000</td>\n",
       "    </tr>\n",
       "    <tr>\n",
       "      <th>50%</th>\n",
       "      <td>3.500000</td>\n",
       "      <td>3.500000</td>\n",
       "    </tr>\n",
       "    <tr>\n",
       "      <th>75%</th>\n",
       "      <td>4.750000</td>\n",
       "      <td>4.750000</td>\n",
       "    </tr>\n",
       "    <tr>\n",
       "      <th>max</th>\n",
       "      <td>6.000000</td>\n",
       "      <td>100.000000</td>\n",
       "    </tr>\n",
       "  </tbody>\n",
       "</table>\n",
       "</div>"
      ],
      "text/plain": [
       "              A           B\n",
       "count  6.000000    6.000000\n",
       "mean   3.500000   19.166667\n",
       "std    1.870829   39.625329\n",
       "min    1.000000    1.000000\n",
       "25%    2.250000    2.250000\n",
       "50%    3.500000    3.500000\n",
       "75%    4.750000    4.750000\n",
       "max    6.000000  100.000000"
      ]
     },
     "execution_count": 18,
     "metadata": {},
     "output_type": "execute_result"
    }
   ],
   "source": [
    "df.describe()"
   ]
  },
  {
   "cell_type": "markdown",
   "id": "47211306-374f-4fbc-9cc6-08b98e82297f",
   "metadata": {},
   "source": [
    "> mean, std, 50% 값을 알 수 있음"
   ]
  },
  {
   "cell_type": "markdown",
   "id": "2ca9d5a3-42f6-4def-8840-d2bb0e11b212",
   "metadata": {},
   "source": []
  }
 ],
 "metadata": {
  "kernelspec": {
   "display_name": "Python [conda env:base] *",
   "language": "python",
   "name": "conda-base-py"
  },
  "language_info": {
   "codemirror_mode": {
    "name": "ipython",
    "version": 3
   },
   "file_extension": ".py",
   "mimetype": "text/x-python",
   "name": "python",
   "nbconvert_exporter": "python",
   "pygments_lexer": "ipython3",
   "version": "3.12.7"
  }
 },
 "nbformat": 4,
 "nbformat_minor": 5
}
