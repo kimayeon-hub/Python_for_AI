{
 "cells": [
  {
   "cell_type": "markdown",
   "id": "eb0fffe3-390f-478d-b08a-e1a1653fb1d1",
   "metadata": {},
   "source": [
    "- XML 포맷이란? **데이터를 구조화**하는 포맷\n",
    "- 현재는 XML 대신 JSON을 사용함\n",
    "- XML 포맷인 데이터를 읽을 줄 알아야 함"
   ]
  },
  {
   "cell_type": "markdown",
   "id": "9d7a66ae-4f7d-42a3-a214-c2c35e56d599",
   "metadata": {},
   "source": [
    "## 1. XML 포맷 이해하기\n",
    "#### **1.1** XML(Extensible Markup Language)\n",
    "- 특정 목적에 따라 데이터를 태그로 감싸서 마크업하는 범용적인 포멧\n",
    "- `마크업 언어`는 태그 등을 이용하여 데이터의 구조를 기술하는 언어의 한 가지\n",
    "- 가장 친숙한 마크업 언어가 HTML\n",
    "- XML은 HTML과 마찬가지로 데이터를 계층 구조로 표현\n",
    "\n",
    "#### **1.2** `XML 기본 구조`\n",
    "```\n",
    "<태그 속성=\"속성값\">내용</태그>\n",
    "\n",
    "```\n",
    "#### **1.3** 태그와 속성은 특정 목적에 따라 임의로 이름을 정해서 사용\n",
    "```\n",
    "<product id=\"M001\" price=\"300000\">32인치 LCD 모니터</product>  \n",
    "```\n",
    "#### **1.4** 다른 요소와 그룹으로 묶을 수도 있음\n",
    "```\n",
    "<products type=\"전자제품\">\n",
    "    <product id=\"M001\" price=\"300000\">32인치 LCD 모니터</product>\n",
    "    <product id=\"M002\" price=\"210000\">24인치 LCD 모니터</product>\n",
    "</products>  \n",
    "```"
   ]
  },
  {
   "cell_type": "markdown",
   "id": "e3b45ada-1d65-4128-a4a6-296b3cf81b6f",
   "metadata": {},
   "source": [
    "## 2. XML 파일 읽고 데이터 추출하기\n",
    "1. open() 함수로 xml 데이터 읽기\n",
    "2. `xml 데이터 파싱하기`\n",
    "3. select() 로 원하는 데이터 `태그 선택`하기\n",
    "   - 리턴값은 리스트 타입\n",
    "   - 원하는 데이터가 하나일 경우에는 `select_one()` 함수 사용\n",
    "   - 실제 데이터는 `각 아이템.text` 로 추출가능\n",
    "\n",
    "```\n",
    "data_file = open('users.xml', 'r', encoding='utf-8-sig') # 1. xml 데이터 읽기\n",
    "soup = BeautifulSoup(data_file, 'xml')                   # 2. xml 데이터 파싱하기\n",
    "users = soup.select('user')                              # 3. 원하는 데이터 관련 태그 선택하기\n",
    "for user in users:                                       # 4. 리스트이므로 for 문으로 아이템 추출\n",
    "    print(user.text)                                     # 5. 각 아이템.text 로 원하는 데이터 출력\n",
    "```"
   ]
  },
  {
   "cell_type": "markdown",
   "id": "3064fe13-5122-4c6c-9106-d1e709952146",
   "metadata": {},
   "source": [
    "#### **2.1** 파싱 (parsing)과 데이터 추출 코드 이해\n",
    "- 일종의 xml 데이터를 분석해서, 빠르게 원하는 데이터를 추출할 수 있도록 트리(tree) 형태로 만드는 것\n",
    "- pip install `bs4`\n",
    "\n",
    "```python\n",
    "from bs4 import BeautifulSoup\n",
    "soup = BeautifulSoup(xml파일디스크립터, 'xml')\n",
    "soup.select(원하는 데이터 태그)\n",
    "```"
   ]
  },
  {
   "cell_type": "markdown",
   "id": "0ac27a13-5966-4035-bbf5-ff0aa72fa35b",
   "metadata": {},
   "source": [
    "#### **2.2** 연습\n",
    "\n",
    "- users.xml 파일\n",
    "    ```xml\n",
    "    <users>\n",
    "        <user rank=\"1\">\n",
    "            <name>잔재미코딩</name>\n",
    "            <age>30</age>\n",
    "        </user>\n",
    "        <user rank=\"2\">\n",
    "            <name>Dave Lee</name>\n",
    "            <age>21</age>\n",
    "        </user>\n",
    "    </users>\n",
    "    ```"
   ]
  },
  {
   "cell_type": "markdown",
   "id": "5574c6b1-15d8-4d15-a1b8-829476f9f3ea",
   "metadata": {},
   "source": [
    "**각 user의 정보 추출하기**"
   ]
  },
  {
   "cell_type": "code",
   "execution_count": 19,
   "id": "a5ecb34d-eb11-45f9-9915-fe78c5e0eaa0",
   "metadata": {},
   "outputs": [
    {
     "name": "stdout",
     "output_type": "stream",
     "text": [
      "\n",
      "잔재미코딩\n",
      "30\n",
      "\n",
      "\n",
      "Dave Lee\n",
      "21\n",
      "\n"
     ]
    }
   ],
   "source": [
    "from bs4 import BeautifulSoup\n",
    "\n",
    "data_file = open('00_Material(Uploaded)/00_data/users.xml', 'r', encoding='utf-8-sig')\n",
    "soup = BeautifulSoup(data_file, 'xml')\n",
    "\n",
    "users = soup.select('user')\n",
    "\n",
    "for user in users:\n",
    "    print(user.text)"
   ]
  },
  {
   "cell_type": "markdown",
   "id": "0b041df9-fc1f-4aaa-b266-08528ac71438",
   "metadata": {},
   "source": [
    "**이름과 나이 각각 추출하기**"
   ]
  },
  {
   "cell_type": "code",
   "execution_count": 21,
   "id": "2858aad5-7d7a-40a5-b046-522441a36c80",
   "metadata": {},
   "outputs": [
    {
     "name": "stdout",
     "output_type": "stream",
     "text": [
      "이름: 잔재미코딩\n",
      "나이: 30\n",
      "이름: Dave Lee\n",
      "나이: 21\n"
     ]
    }
   ],
   "source": [
    "for user in users:\n",
    "    print('이름:', user.select_one('name').text)\n",
    "    print('나이:', user.select_one('age').text)"
   ]
  },
  {
   "cell_type": "markdown",
   "id": "e933c3f9-3689-4c05-a8d0-8399d196012f",
   "metadata": {},
   "source": [
    "<div class=\"alert alert-block\" style=\"border: 1px solid #FFB300;background-color:#F9FBE7;\">\n",
    "<font size=\"4em\" style=\"font-weight:bold;color:#3f8dbf;\">연습문제</font><br>\n",
    "<pre>\n",
    "- http://suggestqueries.google.com/complete/search?output=toolbar&q= 에 키워드를 추가하면 연관 검색어를 추출 가능\n",
    "- XML 포멧으로 되어 있으므로, 태그과 속성값 추출 기술을 활용해서 추출 가능\n",
    "\n",
    "```xml\n",
    "<suggestion data=\"연관검색어\">\n",
    "```\n",
    "\n",
    "- 원하는 데이터가 태그의 속성값에 있을 때에는 아이템[속성이름] 로 추출 가능\n",
    "\n",
    "</pre>\n",
    "\n",
    "<pre>\n",
    "다음 셀에 다음 코드를 넣고 다음 마지막 문장을 입력하여 코드를 완성하시오\n",
    "import requests\n",
    "from bs4 import BeautifulSoup\n",
    "\n",
    "keyword = '스마트폰'\n",
    "google_related_keyword_api = 'http://suggestqueries.google.com/complete/search?output=toolbar&q=' + keyword\n",
    "response = requests.get(google_related_keyword_api)       # 파일이 아니라, 데이터를 Open API 에서 가져오기 위한 함수\n",
    "soup = BeautifulSoup(response.content, 'xml')             # requests.get() 의 리턴값은 객체\n",
    "                                                          # 객체.content 에 가져온 데이터가 있음\n",
    "\n",
    "datas1 = [-------------------]\n",
    "\n",
    "for item in datas1:\n",
    "    print(item['data'])\n",
    "        \n",
    "</pre>"
   ]
  },
  {
   "cell_type": "code",
   "execution_count": 27,
   "id": "fd7f2cbb-c20f-4d1f-bd1b-9afefe395185",
   "metadata": {},
   "outputs": [
    {
     "name": "stdout",
     "output_type": "stream",
     "text": [
      "스마트폰\n",
      "스마트폰을 떨어뜨렸을 뿐인데\n",
      "스마트폰 중독\n",
      "스마트폰갤\n",
      "스마트폰 중독 문제점\n",
      "스마트폰 중독 해결방안\n",
      "스마트폰 거치대\n",
      "스마트폰 찾기\n",
      "스마트폰 tv 미러링\n",
      "스마트폰 인증서이동 서비스\n"
     ]
    }
   ],
   "source": [
    "import requests\n",
    "from bs4 import BeautifulSoup\n",
    "\n",
    "keyword = '스마트폰'\n",
    "google_related_keyword_api = 'http://suggestqueries.google.com/complete/search?output=toolbar&q=' + keyword\n",
    "response = requests.get(google_related_keyword_api)       # 파일이 아니라, 데이터를 Open API 에서 가져오기 위한 함수\n",
    "soup = BeautifulSoup(response.content, 'xml')             # requests.get() 의 리턴값은 객체\n",
    "                                                          # 객체.content 에 가져온 데이터가 있음\n",
    "\n",
    "datas1 = soup.select('suggestion')\n",
    "\n",
    "for item in datas1:\n",
    "    print(item['data'])"
   ]
  },
  {
   "cell_type": "code",
   "execution_count": null,
   "id": "2c9a2b5e-754c-449c-88e0-ef07e9d18c47",
   "metadata": {},
   "outputs": [],
   "source": []
  }
 ],
 "metadata": {
  "kernelspec": {
   "display_name": "Python [conda env:base] *",
   "language": "python",
   "name": "conda-base-py"
  },
  "language_info": {
   "codemirror_mode": {
    "name": "ipython",
    "version": 3
   },
   "file_extension": ".py",
   "mimetype": "text/x-python",
   "name": "python",
   "nbconvert_exporter": "python",
   "pygments_lexer": "ipython3",
   "version": "3.12.7"
  }
 },
 "nbformat": 4,
 "nbformat_minor": 5
}
