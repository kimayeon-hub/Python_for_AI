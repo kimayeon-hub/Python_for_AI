{
 "cells": [
  {
   "cell_type": "markdown",
   "id": "b3db5cc0-560d-4c6c-8397-41e8af258706",
   "metadata": {},
   "source": [
    "## 1. JSON 데이터 포맷 이해하기\n",
    " - **J**avaScript **O**bject **N**otation 줄임말\n",
    " - JSON은 서버와 클라이언트 또는 컴퓨터/프로그램 사이에 데이터를 주고 받을 때 사용하는 데이터 포멧\n",
    " - `키`와 `값`을 괄호와 세미콜론과 같이 간단한 기호로 구성하여 표현할 수 있고, 언어나 운영체제에 구애받지 않기 때문에 많이 사용됨\n",
    " - 특히 웹/앱 환경에서 Rest API를 사용하여, 서버와 클라이언트 사이에 데이터를 주고 받을때 많이 사용\n",
    " - `JSON 포멧` 예 <br>\n",
    "```\n",
    " { \"id\":\"01\", \"language\": \"Java\", \"edition\": \"third\", \"author\": \"Herbert Schildt\" }\n",
    "```"
   ]
  },
  {
   "cell_type": "markdown",
   "id": "63997316-e781-497c-9478-4daca687d1a7",
   "metadata": {},
   "source": [
    "## 2. JSON 데이터 포멧 읽기"
   ]
  },
  {
   "cell_type": "markdown",
   "id": "f44b9421-8d06-489b-80dc-b362f605e06e",
   "metadata": {},
   "source": [
    "#### **2.1** json 라이브러리 제공"
   ]
  },
  {
   "cell_type": "code",
   "execution_count": 6,
   "id": "f893a8f5-d4b4-420f-a382-8acba7da8bfe",
   "metadata": {},
   "outputs": [],
   "source": [
    "import json # pip install json"
   ]
  },
  {
   "cell_type": "markdown",
   "id": "7893d53a-6f18-4f15-b5a2-1825f0390f9d",
   "metadata": {},
   "source": [
    "#### **2.2** `json.loads()` 함수로 `문자열`로된 `json 데이터를 사전처럼` 다룰 수 있음"
   ]
  },
  {
   "cell_type": "code",
   "execution_count": 10,
   "id": "31927496-0067-4033-aef7-eec62b1bc955",
   "metadata": {},
   "outputs": [
    {
     "name": "stdout",
     "output_type": "stream",
     "text": [
      "01 Java third Herbert Schildt <class 'dict'>\n"
     ]
    }
   ],
   "source": [
    "import json\n",
    "\n",
    "# 변수에 문자열로 된 JSON 포멧의 데이터가 있을 경우\n",
    "data = '{ \"id\":\"01\", \"language\": \"Java\", \"edition\": \"third\", \"author\": \"Herbert Schildt\" }' \n",
    "\n",
    "jsondata = json.loads(data)\n",
    "print (jsondata['id'], jsondata['language'], jsondata['edition'], jsondata['author'], type(jsondata))"
   ]
  },
  {
   "cell_type": "markdown",
   "id": "1941ca5f-a029-47f1-a626-3ff2863630dd",
   "metadata": {},
   "source": [
    "#### **2.3** `json.dumps()` 함수로 파이썬 사전 데이터를 `JSON 문자열 데이터로 변환`할 수 있음"
   ]
  },
  {
   "cell_type": "code",
   "execution_count": 15,
   "id": "1acc5cea-b498-4ea0-b14d-442fd0382e46",
   "metadata": {},
   "outputs": [
    {
     "name": "stdout",
     "output_type": "stream",
     "text": [
      "{\"id\": \"01\", \"language\": {\"Java\": \"advance\"}, \"edition\": \"third\", \"author\": \"Herbert Schildt\"} <class 'str'>\n",
      "{\n",
      "  \"id\": \"01\",\n",
      "  \"language\": {\n",
      "    \"Java\": \"advance\"\n",
      "  },\n",
      "  \"edition\": \"third\",\n",
      "  \"author\": \"Herbert Schildt\"\n",
      "} <class 'str'>\n"
     ]
    }
   ],
   "source": [
    "import json\n",
    "\n",
    "# 변수에 문자열로 된 JSON 포멧의 데이터가 있을 경우\n",
    "data = { \"id\":\"01\", \"language\": {\"Java\":\"basic\", \"Java\":\"advance\"}, \"edition\": \"third\", \"author\": \"Herbert Schildt\" }\n",
    "\n",
    "jsondata = json.dumps(data)\n",
    "print (jsondata, type(jsondata))\n",
    "jsondata = json.dumps(data, indent=2) # 들여쓰기\n",
    "print (jsondata, type(jsondata))"
   ]
  },
  {
   "cell_type": "markdown",
   "id": "6ae8e643-6dfa-4044-ba55-ebfbc1ebb57e",
   "metadata": {},
   "source": [
    "#### **2.4** `json.load()` 함수로 `파일`로된 json 데이터를 `사전처럼` 다룰 수 있음\n",
    "- JSON 파일 예: 유투브 카테고리 (미국)\n",
    "```\n",
    "{\n",
    "    \"kind\": \"youtube#videoCategoryListResponse\",\n",
    "    \"etag\": \"\\\"m2yskBQFythfE4irbTIeOgYYfBU/S730Ilt-Fi-emsQJvJAAShlR6hM\\\"\",\n",
    "    \"items\": [\n",
    "        {\n",
    "            \"kind\": \"youtube#videoCategory\",\n",
    "            \"etag\": \"\\\"m2yskBQFythfE4irbTIeOgYYfBU/Xy1mB4_yLrHy_BmKmPBggty2mZQ\\\"\",\n",
    "            \"id\": \"1\",\n",
    "            \"snippet\": {\n",
    "                \"channelId\": \"UCBR8-60-B28hp2BmDPdntcQ\",\n",
    "                \"title\": \"Film & Animation\",\n",
    "                \"assignable\": true\n",
    "            }\n",
    "        },\n",
    "        {\n",
    "            \"kind\": \"youtube#videoCategory\",\n",
    "            \"etag\": \"\\\"m2yskBQFythfE4irbTIeOgYYfBU/UZ1oLIIz2dxIhO45ZTFR3a3NyTA\\\"\",\n",
    "            \"id\": \"2\",\n",
    "            \"snippet\": {\n",
    "                \"channelId\": \"UCBR8-60-B28hp2BmDPdntcQ\",\n",
    "                \"title\": \"Autos & Vehicles\",\n",
    "                \"assignable\": true\n",
    "            }\n",
    "        }\n",
    "    ]\n",
    "}\n",
    "```"
   ]
  },
  {
   "cell_type": "code",
   "execution_count": 30,
   "id": "cb68250e-d737-4b72-b5f6-cc2cf8f93584",
   "metadata": {},
   "outputs": [
    {
     "name": "stdout",
     "output_type": "stream",
     "text": [
      "dict_keys(['kind', 'etag', 'items'])\n"
     ]
    }
   ],
   "source": [
    "import json\n",
    "\n",
    "with open('00_Material(Uploaded)/00_data/US_category_id.json', 'r', encoding='utf-8-sig') as json_file:\n",
    "    json_data = json.load(json_file)\n",
    "    print (json_data.keys())"
   ]
  },
  {
   "cell_type": "markdown",
   "id": "fc19909e-843c-484a-ade1-5dfd9bf791df",
   "metadata": {},
   "source": [
    "**2.4.1** items 데이터만 뽑기\n",
    "- JSON 데이터에 리스트도 포함될 수 있음 (사전 데이터에 키값이 리스트인 경우와 동일)"
   ]
  },
  {
   "cell_type": "code",
   "execution_count": 33,
   "id": "5dccd920-3e5c-4a74-9de7-a70e573e9b98",
   "metadata": {},
   "outputs": [
    {
     "name": "stdout",
     "output_type": "stream",
     "text": [
      "youtube#videoCategory Film & Animation\n",
      "youtube#videoCategory Autos & Vehicles\n",
      "youtube#videoCategory Music\n",
      "youtube#videoCategory Pets & Animals\n",
      "youtube#videoCategory Sports\n",
      "youtube#videoCategory Short Movies\n",
      "youtube#videoCategory Travel & Events\n",
      "youtube#videoCategory Gaming\n",
      "youtube#videoCategory Videoblogging\n",
      "youtube#videoCategory People & Blogs\n",
      "youtube#videoCategory Comedy\n",
      "youtube#videoCategory Entertainment\n",
      "youtube#videoCategory News & Politics\n",
      "youtube#videoCategory Howto & Style\n",
      "youtube#videoCategory Education\n",
      "youtube#videoCategory Science & Technology\n",
      "youtube#videoCategory Nonprofits & Activism\n",
      "youtube#videoCategory Movies\n",
      "youtube#videoCategory Anime/Animation\n",
      "youtube#videoCategory Action/Adventure\n",
      "youtube#videoCategory Classics\n",
      "youtube#videoCategory Comedy\n",
      "youtube#videoCategory Documentary\n",
      "youtube#videoCategory Drama\n",
      "youtube#videoCategory Family\n",
      "youtube#videoCategory Foreign\n",
      "youtube#videoCategory Horror\n",
      "youtube#videoCategory Sci-Fi/Fantasy\n",
      "youtube#videoCategory Thriller\n",
      "youtube#videoCategory Shorts\n",
      "youtube#videoCategory Shows\n",
      "youtube#videoCategory Trailers\n"
     ]
    }
   ],
   "source": [
    "import json\n",
    "\n",
    "with open('00_Material(Uploaded)/00_data/US_category_id.json', 'r', encoding='utf-8-sig') as json_file:\n",
    "    json_data = json.load(json_file)\n",
    "    for item in json_data['items']:\n",
    "        print (item['kind'], item['snippet']['title'])"
   ]
  },
  {
   "cell_type": "markdown",
   "id": "1e540b00-5bcb-4e00-a981-b9347d1d8b56",
   "metadata": {},
   "source": [
    "## 3. 파이썬 사전 데이터를 파일로 쓰기\n",
    "- `json.dump()` 함수 사용"
   ]
  },
  {
   "cell_type": "code",
   "execution_count": 23,
   "id": "29f68e29-21e1-4c2d-8ade-a0e8f18166cb",
   "metadata": {},
   "outputs": [],
   "source": [
    "import json\n",
    "\n",
    "# 변수에 문자열로 된 JSON 포멧의 데이터가 있을 경우\n",
    "data = { \"id\":\"01\", \"language\": \"Java\", \"edition\": \"third\", \"author\": \"Herbert Schildt\" }\n",
    "data['language'] = ['Java', 'C']\n",
    "\n",
    "with open('00_Material(Uploaded)/00_data/test.json', 'w', encoding='utf-8-sig') as json_file:\n",
    "    json_string = json.dump(data, json_file, indent=2)"
   ]
  },
  {
   "cell_type": "code",
   "execution_count": null,
   "id": "93499bdf-bf01-449f-b2e0-7fb99664893e",
   "metadata": {},
   "outputs": [],
   "source": []
  }
 ],
 "metadata": {
  "kernelspec": {
   "display_name": "Python [conda env:base] *",
   "language": "python",
   "name": "conda-base-py"
  },
  "language_info": {
   "codemirror_mode": {
    "name": "ipython",
    "version": 3
   },
   "file_extension": ".py",
   "mimetype": "text/x-python",
   "name": "python",
   "nbconvert_exporter": "python",
   "pygments_lexer": "ipython3",
   "version": "3.12.7"
  }
 },
 "nbformat": 4,
 "nbformat_minor": 5
}
