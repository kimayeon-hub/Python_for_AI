{
 "cells": [
  {
   "cell_type": "markdown",
   "id": "e3b20829-44d4-400e-97e8-b0b2361cfe2b",
   "metadata": {
    "jp-MarkdownHeadingCollapsed": true
   },
   "source": [
    "## 1. 파일 읽기\n",
    "- plain text와 똑같이 읽으면 됨\n",
    "\n",
    "    `open(파일이름, 파일열기모드, encoding)`"
   ]
  },
  {
   "cell_type": "code",
   "execution_count": 57,
   "id": "2dcf2928-6bca-4cc7-9611-68b240a5c925",
   "metadata": {},
   "outputs": [],
   "source": [
    "data_file = open('00_Material(Uploaded)/00_data/USvideos.csv', 'r', encoding='utf-8-sig')"
   ]
  },
  {
   "cell_type": "markdown",
   "id": "030cf3b9-df97-46d2-a2a1-30a7fea1cc0f",
   "metadata": {
    "jp-MarkdownHeadingCollapsed": true
   },
   "source": [
    "## 2. CSV 파일 읽기\n",
    "- CSV(Comma-Separated Values): 스프레드시트 데이터를 저장할 때 가장 널리 쓰이는 파일 형식\n",
    "- 엑셀등 여러 응용프로그램에서도 지원\n",
    "- CSV 형식 (각 열은 **콤마**로 구분, 각 행은 **줄바꿈 문자**로 구분)\n",
    "- 파이썬에서 CSV 파일로 저장/읽기 방법\n",
    "  - csv 라이브러리 사용"
   ]
  },
  {
   "cell_type": "markdown",
   "id": "70705345-6686-4b26-b1a8-2ceb7bdcd245",
   "metadata": {},
   "source": [
    "#### 2.1 CSV 라이브러리\n",
    "- anaconda 에 포함\n",
    "- 만약 다음 코드 실행시 No module 에러 메세지가 나오면, csv 라이브러리 설치 후, 재실행\n",
    "\n",
    "```\n",
    "pip install csv\n",
    "```"
   ]
  },
  {
   "cell_type": "code",
   "execution_count": 13,
   "id": "064c9cb5-ee12-46c6-9375-bca038099835",
   "metadata": {},
   "outputs": [],
   "source": [
    "import csv"
   ]
  },
  {
   "cell_type": "markdown",
   "id": "5c10688d-89ec-44b5-8d70-66879b3c8529",
   "metadata": {},
   "source": [
    "#### 2.2 `csv.reader(오픈한 파일 디스크립터, delimiter=',')`\n",
    "- open 함수를 통해 오픈한 파일 디스크립터\n",
    "- delimiter=데이터구분자: csv 파일 내에 데이터 구분자를 명시할 수 있음 (옵션)\n",
    "\n",
    "    ```\n",
    "    data_file = open('00_data/USvideos.csv', 'r', encoding='utf-8-sig')\n",
    "    data_lines = csv.reader(data_file, delimiter=',')\n",
    "    ```"
   ]
  },
  {
   "cell_type": "markdown",
   "id": "bd046a21-6ebc-4162-a22e-982231b40d17",
   "metadata": {},
   "source": [
    "#### 2.3 `데이터 읽기`\n",
    "- 각 라인별 데이터를 읽기 위해, for 문을 사용하면 됨\n",
    "    ```\n",
    "    data_lines = csv.reader(data_file, delimiter=',')\n",
    "    for data_line in data_lines:\n",
    "        print (data_line)\n",
    "    ```\n"
   ]
  },
  {
   "cell_type": "markdown",
   "id": "a1d54fee-bee3-43bd-8e46-084ba2ef031c",
   "metadata": {},
   "source": [
    "**한 줄만 출력해보기**"
   ]
  },
  {
   "cell_type": "code",
   "execution_count": 7,
   "id": "983faf0b-d84b-45d3-b234-6863151030fa",
   "metadata": {},
   "outputs": [
    {
     "name": "stdout",
     "output_type": "stream",
     "text": [
      "['video_id', 'title', 'channel_title', 'category_id', 'tags', 'views', 'likes', 'dislikes', 'comment_total', 'thumbnail_link', 'date']\n"
     ]
    }
   ],
   "source": [
    "import csv\n",
    "\n",
    "data_file = open('00_Material(Uploaded)/00_data/USvideos.csv', 'r', encoding='utf-8-sig')\n",
    "data_lines = csv.reader(data_file, delimiter=',')\n",
    "for data_line in data_lines:\n",
    "    print(data_line)\n",
    "    break"
   ]
  },
  {
   "cell_type": "markdown",
   "id": "ea68aaab-dd9e-44c4-bb65-1c1c53d6b10e",
   "metadata": {
    "jp-MarkdownHeadingCollapsed": true
   },
   "source": [
    "## 3. 파일 닫기 (close)\n",
    "- 오픈한 파일은 반드시 닫아야 함, 닫지 않으면 파일이 오픈된 채로 남아있을 수 있음"
   ]
  },
  {
   "cell_type": "code",
   "execution_count": 10,
   "id": "5e88622f-5e37-4ca6-bbab-cd382d275de8",
   "metadata": {},
   "outputs": [],
   "source": [
    "data_file.close()"
   ]
  },
  {
   "cell_type": "markdown",
   "id": "8edb4f0e-9a7a-48d5-9843-3a5a01d4a2e1",
   "metadata": {
    "jp-MarkdownHeadingCollapsed": true
   },
   "source": [
    "## 4. CSV 파일 읽기 다른 기법\n",
    "\n",
    "- with 문법을 사용해서, 파일 데이터를 읽은 후, with 내부 구문 실행 완료 후, 자동으로 파일을 닫을 수 있음"
   ]
  },
  {
   "cell_type": "code",
   "execution_count": 12,
   "id": "248e391e-e7e1-4fa3-a45f-f6aefa97589a",
   "metadata": {},
   "outputs": [
    {
     "name": "stdout",
     "output_type": "stream",
     "text": [
      "['video_id', 'title', 'channel_title', 'category_id', 'tags', 'views', 'likes', 'dislikes', 'comment_total', 'thumbnail_link', 'date']\n"
     ]
    }
   ],
   "source": [
    "import csv\n",
    "\n",
    "with open('00_Material(Uploaded)/00_data/USvideos.csv', 'r', encoding='utf-8-sig') as reader_csv:\n",
    "    reader = csv.reader(reader_csv, delimiter=',')\n",
    "\n",
    "    for row in reader:\n",
    "        print(row)\n",
    "        break"
   ]
  },
  {
   "cell_type": "markdown",
   "id": "04ce02bb-292c-4093-ab57-d619fbe9f882",
   "metadata": {
    "jp-MarkdownHeadingCollapsed": true
   },
   "source": [
    "## 5. CSV 파일 쓰기\n",
    "#### 5.1 open 시 'w' 로 옵션을 설정\n",
    "- open() 함수에 newline='' 를 넣어주는 이유는 윈도우의 경우에만 csv 모듈에서 데이타를 쓸 때 각 라인 뒤에 빈 라인이 추가되는 문제가 있기 때문\n",
    "- 이를 없애기 위해 (파이썬 3 에서) 파일을 open 할 때 newline='' 와 같은 옵션을 지정"
   ]
  },
  {
   "cell_type": "code",
   "execution_count": 41,
   "id": "7cd2e67f-6db4-459c-8faf-7fdf0c20fb5f",
   "metadata": {},
   "outputs": [],
   "source": [
    "import csv\n",
    "data_file = open('00_Material(Uploaded)/00_data/data.csv', 'w', encoding='utf-8-sig', newline='')"
   ]
  },
  {
   "cell_type": "markdown",
   "id": "21f02082-c27b-4c64-92d0-69767d7964c8",
   "metadata": {},
   "source": [
    "#### 5.2 csv.reader 대신, `csv.writer` 함수 사용"
   ]
  },
  {
   "cell_type": "code",
   "execution_count": 43,
   "id": "d4746b2a-0541-4c88-81ea-49e8cb7590b8",
   "metadata": {},
   "outputs": [],
   "source": [
    "data_write = csv.writer(data_file, delimiter=',')"
   ]
  },
  {
   "cell_type": "markdown",
   "id": "0e38f773-5d1a-4009-a761-16b92cc3c1dd",
   "metadata": {},
   "source": [
    "#### 5.3 `writerow` 함수에 리스트 형식으로 데이터를 넣으면, 한 라인씩 파일에 추가 됨"
   ]
  },
  {
   "cell_type": "code",
   "execution_count": 45,
   "id": "e060da39-b522-456a-af75-aacc700b8092",
   "metadata": {},
   "outputs": [
    {
     "data": {
      "text/plain": [
       "7"
      ]
     },
     "execution_count": 45,
     "metadata": {},
     "output_type": "execute_result"
    }
   ],
   "source": [
    "data_write.writerow(['1', '2', '3'])"
   ]
  },
  {
   "cell_type": "markdown",
   "id": "90713e0e-3d93-4d71-b83e-1e97e1777c60",
   "metadata": {},
   "source": [
    "#### 5.4 파일 close 는 파일 읽기와 동일함"
   ]
  },
  {
   "cell_type": "code",
   "execution_count": 47,
   "id": "26214880-7a08-4222-a53b-4d80ee406e51",
   "metadata": {},
   "outputs": [],
   "source": [
    "data_file.close()"
   ]
  },
  {
   "cell_type": "markdown",
   "id": "ea890e2b-3312-495b-a102-62d4a06d03a7",
   "metadata": {
    "jp-MarkdownHeadingCollapsed": true
   },
   "source": [
    "## 6. CSV 파일 쓰기 다른 기법 (사전 타입으로 파일 쓰기)\n",
    "#### 6.1 csv.writer 함수 대신, `csv.DictWriter` 함수 사용\n",
    "- field 이름 선언 후, 데이터 넣기"
   ]
  },
  {
   "cell_type": "code",
   "execution_count": 64,
   "id": "27843b62-fdd6-44fd-89bb-1367d0b4a8db",
   "metadata": {},
   "outputs": [],
   "source": [
    "import csv\n",
    "\n",
    "with open('00_Material(Uploaded)/00_data/data.csv', 'w', encoding='utf-8-sig', newline='') as writer_csv:\n",
    "    field_name_list =['First Name', 'Last Name']  # 필드명 정의\n",
    "    writer = csv.DictWriter(writer_csv, fieldnames=field_name_list)  # 필드명을 미리 선언할 수 있음\n",
    "    writer.writeheader()  # 보통 csv 파일 상단에는 필드명을 넣기 때문에, 선언된 필드명을 writerheader() 함수로 넣을 수 있음\n",
    "    writer.writerow({'First Name': 'Dave', 'Last Name': 'Lee'})  # 각 데이터는 사전 타입으로 저장 가능\n",
    "    writer.writerow({'First Name': 'David', 'Last Name': 'Kim'})\n",
    "    writer.writerow({'First Name': 'Robin', 'Last Name': 'Park'})"
   ]
  },
  {
   "cell_type": "markdown",
   "id": "3a72c009-e9c1-4447-add3-3b697088cb5c",
   "metadata": {},
   "source": [
    "#### 6.2 `csv.DictReader`\n",
    "- 사전 타입으로 읽기 가능"
   ]
  },
  {
   "cell_type": "code",
   "execution_count": 74,
   "id": "971141dd-e970-4a4b-875f-f99db93849b8",
   "metadata": {},
   "outputs": [
    {
     "name": "stdout",
     "output_type": "stream",
     "text": [
      "Dave Lee\n",
      "David Kim\n",
      "Robin Park\n"
     ]
    }
   ],
   "source": [
    "import csv\n",
    "\n",
    "with open('00_Material(Uploaded)/00_data/data.csv', 'r', encoding='utf-8-sig') as reader_csv:\n",
    "    reader = csv.DictReader(reader_csv)\n",
    "    for row in reader:\n",
    "        print(row['First Name'], row['Last Name'])"
   ]
  },
  {
   "cell_type": "code",
   "execution_count": null,
   "id": "1558dfa6-22df-43f2-b89f-3d8bde732d03",
   "metadata": {},
   "outputs": [],
   "source": []
  }
 ],
 "metadata": {
  "kernelspec": {
   "display_name": "Python [conda env:base] *",
   "language": "python",
   "name": "conda-base-py"
  },
  "language_info": {
   "codemirror_mode": {
    "name": "ipython",
    "version": 3
   },
   "file_extension": ".py",
   "mimetype": "text/x-python",
   "name": "python",
   "nbconvert_exporter": "python",
   "pygments_lexer": "ipython3",
   "version": "3.12.7"
  }
 },
 "nbformat": 4,
 "nbformat_minor": 5
}
